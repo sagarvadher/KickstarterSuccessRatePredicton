{
 "cells": [
  {
   "cell_type": "code",
   "execution_count": 1,
   "metadata": {
    "collapsed": false
   },
   "outputs": [
    {
     "data": {
      "text/html": [
       "<script>requirejs.config({paths: { 'plotly': ['https://cdn.plot.ly/plotly-latest.min']},});if(!window.Plotly) {{require(['plotly'],function(plotly) {window.Plotly=plotly;});}}</script>"
      ],
      "text/vnd.plotly.v1+html": [
       "<script>requirejs.config({paths: { 'plotly': ['https://cdn.plot.ly/plotly-latest.min']},});if(!window.Plotly) {{require(['plotly'],function(plotly) {window.Plotly=plotly;});}}</script>"
      ]
     },
     "metadata": {},
     "output_type": "display_data"
    }
   ],
   "source": [
    "import pandas as pd\n",
    "import numpy as np\n",
    "import matplotlib.pyplot as plt\n",
    "import plotly.offline as py\n",
    "import plotly.graph_objs as go\n",
    "import seaborn as sns\n",
    "sns.set()"
   ]
  },
  {
   "cell_type": "code",
   "execution_count": 2,
   "metadata": {
    "collapsed": false
   },
   "outputs": [],
   "source": [
    "df=pd.read_csv('https://raw.githubusercontent.com/sagarvadher/KickstarterSuccessRatePredicton/master/ks-projects-201801.csv')"
   ]
  },
  {
   "cell_type": "code",
   "execution_count": 3,
   "metadata": {
    "collapsed": false
   },
   "outputs": [
    {
     "data": {
      "text/plain": [
       "(378661, 14)"
      ]
     },
     "execution_count": 3,
     "metadata": {},
     "output_type": "execute_result"
    }
   ],
   "source": [
    "df.shape"
   ]
  },
  {
   "cell_type": "code",
   "execution_count": 5,
   "metadata": {
    "collapsed": false,
    "scrolled": true
   },
   "outputs": [
    {
     "data": {
      "text/html": [
       "<div>\n",
       "<table border=\"1\" class=\"dataframe\">\n",
       "  <thead>\n",
       "    <tr style=\"text-align: right;\">\n",
       "      <th></th>\n",
       "      <th>ID</th>\n",
       "      <th>name</th>\n",
       "      <th>category</th>\n",
       "      <th>main_category</th>\n",
       "      <th>currency</th>\n",
       "      <th>deadline</th>\n",
       "      <th>goal</th>\n",
       "      <th>launched</th>\n",
       "      <th>pledged</th>\n",
       "      <th>state</th>\n",
       "      <th>backers</th>\n",
       "      <th>country</th>\n",
       "      <th>usd pledged</th>\n",
       "      <th>usd_pledged_real</th>\n",
       "    </tr>\n",
       "  </thead>\n",
       "  <tbody>\n",
       "    <tr>\n",
       "      <th>0</th>\n",
       "      <td>1000002330</td>\n",
       "      <td>The Songs of Adelaide &amp; Abullah</td>\n",
       "      <td>Poetry</td>\n",
       "      <td>Publishing</td>\n",
       "      <td>GBP</td>\n",
       "      <td>10/9/15</td>\n",
       "      <td>1000.0</td>\n",
       "      <td>8/11/15 12:12</td>\n",
       "      <td>0.0</td>\n",
       "      <td>failed</td>\n",
       "      <td>0</td>\n",
       "      <td>GB</td>\n",
       "      <td>0.0</td>\n",
       "      <td>0.0</td>\n",
       "    </tr>\n",
       "    <tr>\n",
       "      <th>1</th>\n",
       "      <td>1000003930</td>\n",
       "      <td>Greeting From Earth: ZGAC Arts Capsule For ET</td>\n",
       "      <td>Narrative Film</td>\n",
       "      <td>Film &amp; Video</td>\n",
       "      <td>USD</td>\n",
       "      <td>11/1/17</td>\n",
       "      <td>30000.0</td>\n",
       "      <td>9/2/17 04:43</td>\n",
       "      <td>2421.0</td>\n",
       "      <td>failed</td>\n",
       "      <td>15</td>\n",
       "      <td>US</td>\n",
       "      <td>100.0</td>\n",
       "      <td>2421.0</td>\n",
       "    </tr>\n",
       "    <tr>\n",
       "      <th>2</th>\n",
       "      <td>1000004038</td>\n",
       "      <td>Where is Hank?</td>\n",
       "      <td>Narrative Film</td>\n",
       "      <td>Film &amp; Video</td>\n",
       "      <td>USD</td>\n",
       "      <td>2/26/13</td>\n",
       "      <td>45000.0</td>\n",
       "      <td>1/12/13 00:20</td>\n",
       "      <td>220.0</td>\n",
       "      <td>failed</td>\n",
       "      <td>3</td>\n",
       "      <td>US</td>\n",
       "      <td>220.0</td>\n",
       "      <td>220.0</td>\n",
       "    </tr>\n",
       "    <tr>\n",
       "      <th>3</th>\n",
       "      <td>1000007540</td>\n",
       "      <td>ToshiCapital Rekordz Needs Help to Complete Album</td>\n",
       "      <td>Music</td>\n",
       "      <td>Music</td>\n",
       "      <td>USD</td>\n",
       "      <td>4/16/12</td>\n",
       "      <td>5000.0</td>\n",
       "      <td>3/17/12 03:24</td>\n",
       "      <td>1.0</td>\n",
       "      <td>failed</td>\n",
       "      <td>1</td>\n",
       "      <td>US</td>\n",
       "      <td>1.0</td>\n",
       "      <td>1.0</td>\n",
       "    </tr>\n",
       "    <tr>\n",
       "      <th>4</th>\n",
       "      <td>1000011046</td>\n",
       "      <td>Community Film Project: The Art of Neighborhoo...</td>\n",
       "      <td>Film &amp; Video</td>\n",
       "      <td>Film &amp; Video</td>\n",
       "      <td>USD</td>\n",
       "      <td>8/29/15</td>\n",
       "      <td>19500.0</td>\n",
       "      <td>7/4/15 08:35</td>\n",
       "      <td>1283.0</td>\n",
       "      <td>canceled</td>\n",
       "      <td>14</td>\n",
       "      <td>US</td>\n",
       "      <td>1283.0</td>\n",
       "      <td>1283.0</td>\n",
       "    </tr>\n",
       "  </tbody>\n",
       "</table>\n",
       "</div>"
      ],
      "text/plain": [
       "           ID                                               name  \\\n",
       "0  1000002330                    The Songs of Adelaide & Abullah   \n",
       "1  1000003930      Greeting From Earth: ZGAC Arts Capsule For ET   \n",
       "2  1000004038                                     Where is Hank?   \n",
       "3  1000007540  ToshiCapital Rekordz Needs Help to Complete Album   \n",
       "4  1000011046  Community Film Project: The Art of Neighborhoo...   \n",
       "\n",
       "         category main_category currency deadline     goal       launched  \\\n",
       "0          Poetry    Publishing      GBP  10/9/15   1000.0  8/11/15 12:12   \n",
       "1  Narrative Film  Film & Video      USD  11/1/17  30000.0   9/2/17 04:43   \n",
       "2  Narrative Film  Film & Video      USD  2/26/13  45000.0  1/12/13 00:20   \n",
       "3           Music         Music      USD  4/16/12   5000.0  3/17/12 03:24   \n",
       "4    Film & Video  Film & Video      USD  8/29/15  19500.0   7/4/15 08:35   \n",
       "\n",
       "   pledged     state  backers country  usd pledged  usd_pledged_real  \n",
       "0      0.0    failed        0      GB          0.0               0.0  \n",
       "1   2421.0    failed       15      US        100.0            2421.0  \n",
       "2    220.0    failed        3      US        220.0             220.0  \n",
       "3      1.0    failed        1      US          1.0               1.0  \n",
       "4   1283.0  canceled       14      US       1283.0            1283.0  "
      ]
     },
     "execution_count": 5,
     "metadata": {},
     "output_type": "execute_result"
    }
   ],
   "source": [
    "df.head()"
   ]
  },
  {
   "cell_type": "code",
   "execution_count": null,
   "metadata": {
    "collapsed": false
   },
   "outputs": [],
   "source": [
    "\n"
   ]
  },
  {
   "cell_type": "code",
   "execution_count": 7,
   "metadata": {
    "collapsed": false
   },
   "outputs": [
    {
     "data": {
      "text/plain": [
       "Film & Video    63585\n",
       "Music           51918\n",
       "Publishing      39874\n",
       "Games           35231\n",
       "Technology      32569\n",
       "Design          30070\n",
       "Art             28153\n",
       "Food            24602\n",
       "Fashion         22816\n",
       "Theater         10913\n",
       "Comics          10819\n",
       "Photography     10779\n",
       "Crafts           8809\n",
       "Journalism       4755\n",
       "Dance            3768\n",
       "Name: main_category, dtype: int64"
      ]
     },
     "execution_count": 7,
     "metadata": {},
     "output_type": "execute_result"
    }
   ],
   "source": [
    "df['main_category'].value_counts()"
   ]
  },
  {
   "cell_type": "code",
   "execution_count": 8,
   "metadata": {
    "collapsed": false
   },
   "outputs": [
    {
     "data": {
      "text/plain": [
       "USD    295365\n",
       "GBP     34132\n",
       "EUR     17405\n",
       "CAD     14962\n",
       "AUD      7950\n",
       "SEK      1788\n",
       "MXN      1752\n",
       "NZD      1475\n",
       "DKK      1129\n",
       "CHF       768\n",
       "NOK       722\n",
       "HKD       618\n",
       "SGD       555\n",
       "JPY        40\n",
       "Name: currency, dtype: int64"
      ]
     },
     "execution_count": 8,
     "metadata": {},
     "output_type": "execute_result"
    }
   ],
   "source": [
    "df['currency'].value_counts()"
   ]
  },
  {
   "cell_type": "code",
   "execution_count": 9,
   "metadata": {
    "collapsed": false,
    "scrolled": true
   },
   "outputs": [
    {
     "data": {
      "text/plain": [
       "ID                    int64\n",
       "name                 object\n",
       "category             object\n",
       "main_category        object\n",
       "currency             object\n",
       "deadline             object\n",
       "goal                float64\n",
       "launched             object\n",
       "pledged             float64\n",
       "state                object\n",
       "backers               int64\n",
       "country              object\n",
       "usd pledged         float64\n",
       "usd_pledged_real    float64\n",
       "dtype: object"
      ]
     },
     "execution_count": 9,
     "metadata": {},
     "output_type": "execute_result"
    }
   ],
   "source": [
    "df.dtypes"
   ]
  },
  {
   "cell_type": "code",
   "execution_count": 12,
   "metadata": {
    "collapsed": false
   },
   "outputs": [],
   "source": [
    "df['launched']=pd.to_datetime(df['launched'])\n"
   ]
  },
  {
   "cell_type": "code",
   "execution_count": 13,
   "metadata": {
    "collapsed": false
   },
   "outputs": [],
   "source": [
    "df['deadline'] = pd.to_datetime(df['deadline'])"
   ]
  },
  {
   "cell_type": "code",
   "execution_count": 14,
   "metadata": {
    "collapsed": false
   },
   "outputs": [
    {
     "data": {
      "text/plain": [
       "ID                           int64\n",
       "name                        object\n",
       "category                    object\n",
       "main_category               object\n",
       "currency                    object\n",
       "deadline            datetime64[ns]\n",
       "goal                       float64\n",
       "launched            datetime64[ns]\n",
       "pledged                    float64\n",
       "state                       object\n",
       "backers                      int64\n",
       "country                     object\n",
       "usd pledged                float64\n",
       "usd_pledged_real           float64\n",
       "dtype: object"
      ]
     },
     "execution_count": 14,
     "metadata": {},
     "output_type": "execute_result"
    }
   ],
   "source": [
    "df.dtypes"
   ]
  },
  {
   "cell_type": "code",
   "execution_count": 15,
   "metadata": {
    "collapsed": true
   },
   "outputs": [],
   "source": [
    "df['realnotreal'] = df['usd pledged'] == df['usd_pledged_real']"
   ]
  },
  {
   "cell_type": "code",
   "execution_count": 16,
   "metadata": {
    "collapsed": false
   },
   "outputs": [
    {
     "data": {
      "text/plain": [
       "True     262248\n",
       "False    116413\n",
       "Name: realnotreal, dtype: int64"
      ]
     },
     "execution_count": 16,
     "metadata": {},
     "output_type": "execute_result"
    }
   ],
   "source": [
    "df.realnotreal.value_counts()"
   ]
  },
  {
   "cell_type": "code",
   "execution_count": 20,
   "metadata": {
    "collapsed": false
   },
   "outputs": [],
   "source": [
    "df['Year'] = pd.DatetimeIndex(df['launched']).year"
   ]
  },
  {
   "cell_type": "code",
   "execution_count": 21,
   "metadata": {
    "collapsed": false
   },
   "outputs": [
    {
     "data": {
      "text/plain": [
       "(378661, 16)"
      ]
     },
     "execution_count": 21,
     "metadata": {},
     "output_type": "execute_result"
    }
   ],
   "source": [
    "df.shape"
   ]
  },
  {
   "cell_type": "code",
   "execution_count": 22,
   "metadata": {
    "collapsed": false
   },
   "outputs": [],
   "source": [
    "year_unique, year_count =np.unique(df['Year'], return_counts=True)"
   ]
  },
  {
   "cell_type": "code",
   "execution_count": 23,
   "metadata": {
    "collapsed": false
   },
   "outputs": [
    {
     "data": {
      "text/plain": [
       "array([1970, 2009, 2010, 2011, 2012, 2013, 2014, 2015, 2016, 2017, 2018],\n",
       "      dtype=int32)"
      ]
     },
     "execution_count": 23,
     "metadata": {},
     "output_type": "execute_result"
    }
   ],
   "source": [
    "year_unique"
   ]
  },
  {
   "cell_type": "code",
   "execution_count": 24,
   "metadata": {
    "collapsed": false
   },
   "outputs": [
    {
     "data": {
      "text/plain": [
       "array([    7,  1329, 10519, 26237, 41165, 44851, 67745, 77300, 57184,\n",
       "       52200,   124])"
      ]
     },
     "execution_count": 24,
     "metadata": {},
     "output_type": "execute_result"
    }
   ],
   "source": [
    "year_count"
   ]
  },
  {
   "cell_type": "code",
   "execution_count": 26,
   "metadata": {
    "collapsed": false
   },
   "outputs": [
    {
     "data": {
      "application/vnd.plotly.v1+json": {
       "data": [
        {
         "type": "bar",
         "x": [
          2009,
          2010,
          2011,
          2012,
          2013,
          2014,
          2015,
          2016,
          2017,
          2018
         ],
         "y": [
          1329,
          10519,
          26237,
          41165,
          44851,
          67745,
          77300,
          57184,
          52200,
          124
         ]
        }
       ],
       "layout": {}
      },
      "text/html": [
       "<div id=\"1c2214a2-b9aa-4be5-b8ce-21cfefc09cf1\" style=\"height: 525px; width: 100%;\" class=\"plotly-graph-div\"></div><script type=\"text/javascript\">require([\"plotly\"], function(Plotly) { window.PLOTLYENV=window.PLOTLYENV || {};window.PLOTLYENV.BASE_URL=\"https://plot.ly\";Plotly.newPlot(\"1c2214a2-b9aa-4be5-b8ce-21cfefc09cf1\", [{\"type\": \"bar\", \"x\": [2009, 2010, 2011, 2012, 2013, 2014, 2015, 2016, 2017, 2018], \"y\": [1329, 10519, 26237, 41165, 44851, 67745, 77300, 57184, 52200, 124]}], {}, {\"showLink\": true, \"linkText\": \"Export to plot.ly\"})});</script>"
      ],
      "text/vnd.plotly.v1+html": [
       "<div id=\"1c2214a2-b9aa-4be5-b8ce-21cfefc09cf1\" style=\"height: 525px; width: 100%;\" class=\"plotly-graph-div\"></div><script type=\"text/javascript\">require([\"plotly\"], function(Plotly) { window.PLOTLYENV=window.PLOTLYENV || {};window.PLOTLYENV.BASE_URL=\"https://plot.ly\";Plotly.newPlot(\"1c2214a2-b9aa-4be5-b8ce-21cfefc09cf1\", [{\"type\": \"bar\", \"x\": [2009, 2010, 2011, 2012, 2013, 2014, 2015, 2016, 2017, 2018], \"y\": [1329, 10519, 26237, 41165, 44851, 67745, 77300, 57184, 52200, 124]}], {}, {\"showLink\": true, \"linkText\": \"Export to plot.ly\"})});</script>"
      ]
     },
     "metadata": {},
     "output_type": "display_data"
    }
   ],
   "source": [
    "%matplotlib inline\n",
    "x = year_unique[1:]\n",
    "y=year_count[1:]\n",
    "data = [go.Bar(x=x, y=y)]\n",
    "py.iplot(data)"
   ]
  },
  {
   "cell_type": "code",
   "execution_count": 27,
   "metadata": {
    "collapsed": false
   },
   "outputs": [
    {
     "data": {
      "text/plain": [
       "failed        197719\n",
       "successful    133956\n",
       "canceled       38779\n",
       "undefined       3562\n",
       "live            2799\n",
       "suspended       1846\n",
       "Name: state, dtype: int64"
      ]
     },
     "execution_count": 27,
     "metadata": {},
     "output_type": "execute_result"
    }
   ],
   "source": [
    "df.state.value_counts()"
   ]
  },
  {
   "cell_type": "code",
   "execution_count": 28,
   "metadata": {
    "collapsed": false
   },
   "outputs": [],
   "source": [
    "state = df.state.unique().tolist()\n"
   ]
  },
  {
   "cell_type": "code",
   "execution_count": 29,
   "metadata": {
    "collapsed": false
   },
   "outputs": [],
   "source": [
    "del state[state.index('live')]"
   ]
  },
  {
   "cell_type": "code",
   "execution_count": 30,
   "metadata": {
    "collapsed": false
   },
   "outputs": [],
   "source": [
    "data_bar =[]"
   ]
  },
  {
   "cell_type": "code",
   "execution_count": 31,
   "metadata": {
    "collapsed": false,
    "scrolled": true
   },
   "outputs": [
    {
     "data": {
      "text/html": [
       "<div>\n",
       "<table border=\"1\" class=\"dataframe\">\n",
       "  <thead>\n",
       "    <tr style=\"text-align: right;\">\n",
       "      <th></th>\n",
       "      <th>ID</th>\n",
       "      <th>name</th>\n",
       "      <th>category</th>\n",
       "      <th>main_category</th>\n",
       "      <th>currency</th>\n",
       "      <th>deadline</th>\n",
       "      <th>goal</th>\n",
       "      <th>launched</th>\n",
       "      <th>pledged</th>\n",
       "      <th>state</th>\n",
       "      <th>backers</th>\n",
       "      <th>country</th>\n",
       "      <th>usd pledged</th>\n",
       "      <th>usd_pledged_real</th>\n",
       "      <th>realnotreal</th>\n",
       "      <th>Year</th>\n",
       "    </tr>\n",
       "  </thead>\n",
       "  <tbody>\n",
       "  </tbody>\n",
       "</table>\n",
       "</div>"
      ],
      "text/plain": [
       "Empty DataFrame\n",
       "Columns: [ID, name, category, main_category, currency, deadline, goal, launched, pledged, state, backers, country, usd pledged, usd_pledged_real, realnotreal, Year]\n",
       "Index: []"
      ]
     },
     "execution_count": 31,
     "metadata": {},
     "output_type": "execute_result"
    }
   ],
   "source": [
    "df[pd.isnull(df['pledged'])]\n",
    "\n"
   ]
  },
  {
   "cell_type": "code",
   "execution_count": 32,
   "metadata": {
    "collapsed": false
   },
   "outputs": [
    {
     "data": {
      "text/plain": [
       "0.000000         68112\n",
       "1.000000          5335\n",
       "25.000000         3876\n",
       "10.000000         3623\n",
       "50.000000         3139\n",
       "100.000000        2673\n",
       "5.000000          2596\n",
       "20.000000         2469\n",
       "30.000000         1716\n",
       "2.000000          1451\n",
       "15.000000         1308\n",
       "40.000000         1187\n",
       "60.000000         1184\n",
       "35.000000         1176\n",
       "75.000000         1119\n",
       "150.000000        1064\n",
       "200.000000         988\n",
       "125.000000         917\n",
       "70.000000          790\n",
       "55.000000          777\n",
       "110.000000         773\n",
       "45.000000          758\n",
       "11.000000          735\n",
       "80.000000          711\n",
       "26.000000          703\n",
       "120.000000         666\n",
       "6.000000           662\n",
       "250.000000         652\n",
       "500.000000         618\n",
       "300.000000         604\n",
       "                 ...  \n",
       "68496.100000         1\n",
       "12.890950            1\n",
       "10119.500000         1\n",
       "214345.000000        1\n",
       "1420.783966          1\n",
       "13395.000000         1\n",
       "6937.759071          1\n",
       "618.178984           1\n",
       "197.075253           1\n",
       "459.577054           1\n",
       "13393.000000         1\n",
       "921.660000           1\n",
       "107145.000000        1\n",
       "11.046233            1\n",
       "927.400280           1\n",
       "53573.000000         1\n",
       "1656.281090          1\n",
       "320.729724           1\n",
       "6.536873             1\n",
       "26060.000000         1\n",
       "4528.130000          1\n",
       "15.702408            1\n",
       "4444.016955          1\n",
       "117.957130           1\n",
       "108.748936           1\n",
       "67.769885            1\n",
       "147.810000           1\n",
       "107157.000000        1\n",
       "215.764027           1\n",
       "2500.599338          1\n",
       "Name: usd pledged, dtype: int64"
      ]
     },
     "execution_count": 32,
     "metadata": {},
     "output_type": "execute_result"
    }
   ],
   "source": [
    "df['usd pledged'].value_counts()"
   ]
  },
  {
   "cell_type": "code",
   "execution_count": 33,
   "metadata": {
    "collapsed": false
   },
   "outputs": [
    {
     "data": {
      "text/html": [
       "<div>\n",
       "<table border=\"1\" class=\"dataframe\">\n",
       "  <thead>\n",
       "    <tr style=\"text-align: right;\">\n",
       "      <th></th>\n",
       "      <th>ID</th>\n",
       "      <th>name</th>\n",
       "      <th>category</th>\n",
       "      <th>main_category</th>\n",
       "      <th>currency</th>\n",
       "      <th>deadline</th>\n",
       "      <th>goal</th>\n",
       "      <th>launched</th>\n",
       "      <th>pledged</th>\n",
       "      <th>state</th>\n",
       "      <th>backers</th>\n",
       "      <th>country</th>\n",
       "      <th>usd pledged</th>\n",
       "      <th>usd_pledged_real</th>\n",
       "      <th>realnotreal</th>\n",
       "      <th>Year</th>\n",
       "    </tr>\n",
       "  </thead>\n",
       "  <tbody>\n",
       "    <tr>\n",
       "      <th>0</th>\n",
       "      <td>1000002330</td>\n",
       "      <td>The Songs of Adelaide &amp; Abullah</td>\n",
       "      <td>Poetry</td>\n",
       "      <td>Publishing</td>\n",
       "      <td>GBP</td>\n",
       "      <td>2015-10-09</td>\n",
       "      <td>1000.0</td>\n",
       "      <td>2015-08-11 12:12:00</td>\n",
       "      <td>0.0</td>\n",
       "      <td>failed</td>\n",
       "      <td>0</td>\n",
       "      <td>GB</td>\n",
       "      <td>0.0</td>\n",
       "      <td>0.0</td>\n",
       "      <td>True</td>\n",
       "      <td>2015</td>\n",
       "    </tr>\n",
       "    <tr>\n",
       "      <th>1</th>\n",
       "      <td>1000003930</td>\n",
       "      <td>Greeting From Earth: ZGAC Arts Capsule For ET</td>\n",
       "      <td>Narrative Film</td>\n",
       "      <td>Film &amp; Video</td>\n",
       "      <td>USD</td>\n",
       "      <td>2017-11-01</td>\n",
       "      <td>30000.0</td>\n",
       "      <td>2017-09-02 04:43:00</td>\n",
       "      <td>2421.0</td>\n",
       "      <td>failed</td>\n",
       "      <td>15</td>\n",
       "      <td>US</td>\n",
       "      <td>100.0</td>\n",
       "      <td>2421.0</td>\n",
       "      <td>False</td>\n",
       "      <td>2017</td>\n",
       "    </tr>\n",
       "    <tr>\n",
       "      <th>2</th>\n",
       "      <td>1000004038</td>\n",
       "      <td>Where is Hank?</td>\n",
       "      <td>Narrative Film</td>\n",
       "      <td>Film &amp; Video</td>\n",
       "      <td>USD</td>\n",
       "      <td>2013-02-26</td>\n",
       "      <td>45000.0</td>\n",
       "      <td>2013-01-12 00:20:00</td>\n",
       "      <td>220.0</td>\n",
       "      <td>failed</td>\n",
       "      <td>3</td>\n",
       "      <td>US</td>\n",
       "      <td>220.0</td>\n",
       "      <td>220.0</td>\n",
       "      <td>True</td>\n",
       "      <td>2013</td>\n",
       "    </tr>\n",
       "    <tr>\n",
       "      <th>3</th>\n",
       "      <td>1000007540</td>\n",
       "      <td>ToshiCapital Rekordz Needs Help to Complete Album</td>\n",
       "      <td>Music</td>\n",
       "      <td>Music</td>\n",
       "      <td>USD</td>\n",
       "      <td>2012-04-16</td>\n",
       "      <td>5000.0</td>\n",
       "      <td>2012-03-17 03:24:00</td>\n",
       "      <td>1.0</td>\n",
       "      <td>failed</td>\n",
       "      <td>1</td>\n",
       "      <td>US</td>\n",
       "      <td>1.0</td>\n",
       "      <td>1.0</td>\n",
       "      <td>True</td>\n",
       "      <td>2012</td>\n",
       "    </tr>\n",
       "    <tr>\n",
       "      <th>4</th>\n",
       "      <td>1000011046</td>\n",
       "      <td>Community Film Project: The Art of Neighborhoo...</td>\n",
       "      <td>Film &amp; Video</td>\n",
       "      <td>Film &amp; Video</td>\n",
       "      <td>USD</td>\n",
       "      <td>2015-08-29</td>\n",
       "      <td>19500.0</td>\n",
       "      <td>2015-07-04 08:35:00</td>\n",
       "      <td>1283.0</td>\n",
       "      <td>canceled</td>\n",
       "      <td>14</td>\n",
       "      <td>US</td>\n",
       "      <td>1283.0</td>\n",
       "      <td>1283.0</td>\n",
       "      <td>True</td>\n",
       "      <td>2015</td>\n",
       "    </tr>\n",
       "  </tbody>\n",
       "</table>\n",
       "</div>"
      ],
      "text/plain": [
       "           ID                                               name  \\\n",
       "0  1000002330                    The Songs of Adelaide & Abullah   \n",
       "1  1000003930      Greeting From Earth: ZGAC Arts Capsule For ET   \n",
       "2  1000004038                                     Where is Hank?   \n",
       "3  1000007540  ToshiCapital Rekordz Needs Help to Complete Album   \n",
       "4  1000011046  Community Film Project: The Art of Neighborhoo...   \n",
       "\n",
       "         category main_category currency   deadline     goal  \\\n",
       "0          Poetry    Publishing      GBP 2015-10-09   1000.0   \n",
       "1  Narrative Film  Film & Video      USD 2017-11-01  30000.0   \n",
       "2  Narrative Film  Film & Video      USD 2013-02-26  45000.0   \n",
       "3           Music         Music      USD 2012-04-16   5000.0   \n",
       "4    Film & Video  Film & Video      USD 2015-08-29  19500.0   \n",
       "\n",
       "             launched  pledged     state  backers country  usd pledged  \\\n",
       "0 2015-08-11 12:12:00      0.0    failed        0      GB          0.0   \n",
       "1 2017-09-02 04:43:00   2421.0    failed       15      US        100.0   \n",
       "2 2013-01-12 00:20:00    220.0    failed        3      US        220.0   \n",
       "3 2012-03-17 03:24:00      1.0    failed        1      US          1.0   \n",
       "4 2015-07-04 08:35:00   1283.0  canceled       14      US       1283.0   \n",
       "\n",
       "   usd_pledged_real realnotreal  Year  \n",
       "0               0.0        True  2015  \n",
       "1            2421.0       False  2017  \n",
       "2             220.0        True  2013  \n",
       "3               1.0        True  2012  \n",
       "4            1283.0        True  2015  "
      ]
     },
     "execution_count": 33,
     "metadata": {},
     "output_type": "execute_result"
    }
   ],
   "source": [
    "df.head()"
   ]
  },
  {
   "cell_type": "code",
   "execution_count": 34,
   "metadata": {
    "collapsed": false
   },
   "outputs": [],
   "source": [
    "def hr_func(ts):\n",
    "    return ts.year,ts.month,ts.day\n",
    "\n",
    "df['launched_date'] = df['launched'].apply(hr_func)\n"
   ]
  },
  {
   "cell_type": "code",
   "execution_count": 35,
   "metadata": {
    "collapsed": false
   },
   "outputs": [
    {
     "data": {
      "text/plain": [
       "0          (2015, 8, 11)\n",
       "1           (2017, 9, 2)\n",
       "2          (2013, 1, 12)\n",
       "3          (2012, 3, 17)\n",
       "4           (2015, 7, 4)\n",
       "5          (2016, 2, 26)\n",
       "6          (2014, 12, 1)\n",
       "7           (2016, 2, 1)\n",
       "8          (2014, 4, 24)\n",
       "9          (2014, 7, 11)\n",
       "10          (2013, 9, 9)\n",
       "11          (2013, 3, 9)\n",
       "12          (2014, 9, 2)\n",
       "13          (2016, 2, 9)\n",
       "14          (2017, 4, 5)\n",
       "15         (2015, 1, 29)\n",
       "16         (2014, 10, 9)\n",
       "17         (2015, 4, 10)\n",
       "18          (2012, 8, 2)\n",
       "19          (2012, 5, 3)\n",
       "20        (2013, 11, 25)\n",
       "21          (2017, 8, 8)\n",
       "22         (2014, 5, 16)\n",
       "23         (2015, 1, 26)\n",
       "24        (2014, 10, 23)\n",
       "25         (2010, 12, 7)\n",
       "26         (2015, 12, 6)\n",
       "27        (2014, 11, 14)\n",
       "28        (2015, 12, 29)\n",
       "29          (2017, 4, 3)\n",
       "               ...      \n",
       "378631      (2014, 9, 3)\n",
       "378632      (2014, 5, 6)\n",
       "378633    (2014, 11, 13)\n",
       "378634     (2010, 11, 8)\n",
       "378635     (2015, 8, 25)\n",
       "378636    (2014, 11, 17)\n",
       "378637     (2017, 8, 29)\n",
       "378638     (2014, 7, 15)\n",
       "378639     (2015, 11, 3)\n",
       "378640      (2014, 8, 8)\n",
       "378641      (2015, 7, 6)\n",
       "378642     (2017, 10, 4)\n",
       "378643      (2014, 5, 5)\n",
       "378644    (2015, 11, 23)\n",
       "378645     (2013, 9, 10)\n",
       "378646    (2013, 10, 18)\n",
       "378647     (2012, 8, 15)\n",
       "378648     (2016, 1, 24)\n",
       "378649      (2017, 2, 8)\n",
       "378650     (2016, 7, 29)\n",
       "378651     (2014, 2, 20)\n",
       "378652     (2015, 3, 29)\n",
       "378653     (2012, 2, 15)\n",
       "378654     (2017, 3, 20)\n",
       "378655      (2014, 8, 6)\n",
       "378656     (2014, 9, 17)\n",
       "378657     (2011, 6, 22)\n",
       "378658      (2010, 7, 1)\n",
       "378659     (2016, 1, 13)\n",
       "378660     (2011, 7, 19)\n",
       "Name: launched_date, dtype: object"
      ]
     },
     "execution_count": 35,
     "metadata": {},
     "output_type": "execute_result"
    }
   ],
   "source": [
    "df['launched_date']"
   ]
  },
  {
   "cell_type": "code",
   "execution_count": 36,
   "metadata": {
    "collapsed": false
   },
   "outputs": [],
   "source": [
    "import datetime"
   ]
  },
  {
   "cell_type": "code",
   "execution_count": 37,
   "metadata": {
    "collapsed": false
   },
   "outputs": [],
   "source": [
    "df['launched_date'] = df['launched_date'].apply(lambda x: datetime.datetime.strptime(str(x), '(%Y, %m, %d)'))\n"
   ]
  },
  {
   "cell_type": "code",
   "execution_count": 38,
   "metadata": {
    "collapsed": false
   },
   "outputs": [
    {
     "data": {
      "text/plain": [
       "0        2015-08-11\n",
       "1        2017-09-02\n",
       "2        2013-01-12\n",
       "3        2012-03-17\n",
       "4        2015-07-04\n",
       "5        2016-02-26\n",
       "6        2014-12-01\n",
       "7        2016-02-01\n",
       "8        2014-04-24\n",
       "9        2014-07-11\n",
       "10       2013-09-09\n",
       "11       2013-03-09\n",
       "12       2014-09-02\n",
       "13       2016-02-09\n",
       "14       2017-04-05\n",
       "15       2015-01-29\n",
       "16       2014-10-09\n",
       "17       2015-04-10\n",
       "18       2012-08-02\n",
       "19       2012-05-03\n",
       "20       2013-11-25\n",
       "21       2017-08-08\n",
       "22       2014-05-16\n",
       "23       2015-01-26\n",
       "24       2014-10-23\n",
       "25       2010-12-07\n",
       "26       2015-12-06\n",
       "27       2014-11-14\n",
       "28       2015-12-29\n",
       "29       2017-04-03\n",
       "            ...    \n",
       "378631   2014-09-03\n",
       "378632   2014-05-06\n",
       "378633   2014-11-13\n",
       "378634   2010-11-08\n",
       "378635   2015-08-25\n",
       "378636   2014-11-17\n",
       "378637   2017-08-29\n",
       "378638   2014-07-15\n",
       "378639   2015-11-03\n",
       "378640   2014-08-08\n",
       "378641   2015-07-06\n",
       "378642   2017-10-04\n",
       "378643   2014-05-05\n",
       "378644   2015-11-23\n",
       "378645   2013-09-10\n",
       "378646   2013-10-18\n",
       "378647   2012-08-15\n",
       "378648   2016-01-24\n",
       "378649   2017-02-08\n",
       "378650   2016-07-29\n",
       "378651   2014-02-20\n",
       "378652   2015-03-29\n",
       "378653   2012-02-15\n",
       "378654   2017-03-20\n",
       "378655   2014-08-06\n",
       "378656   2014-09-17\n",
       "378657   2011-06-22\n",
       "378658   2010-07-01\n",
       "378659   2016-01-13\n",
       "378660   2011-07-19\n",
       "Name: launched_date, dtype: datetime64[ns]"
      ]
     },
     "execution_count": 38,
     "metadata": {},
     "output_type": "execute_result"
    }
   ],
   "source": [
    "df['launched_date']"
   ]
  },
  {
   "cell_type": "code",
   "execution_count": 40,
   "metadata": {
    "collapsed": false
   },
   "outputs": [],
   "source": [
    "df['period']=df['deadline'].subtract(df['launched_date'])"
   ]
  },
  {
   "cell_type": "code",
   "execution_count": 41,
   "metadata": {
    "collapsed": false
   },
   "outputs": [
    {
     "data": {
      "text/plain": [
       "0        59 days\n",
       "1        60 days\n",
       "2        45 days\n",
       "3        30 days\n",
       "4        56 days\n",
       "5        35 days\n",
       "6        20 days\n",
       "7        45 days\n",
       "8        35 days\n",
       "9        30 days\n",
       "10       30 days\n",
       "11       30 days\n",
       "12       30 days\n",
       "13       45 days\n",
       "14       28 days\n",
       "15       30 days\n",
       "16       30 days\n",
       "17       30 days\n",
       "18       15 days\n",
       "19       30 days\n",
       "20       35 days\n",
       "21       30 days\n",
       "22       30 days\n",
       "23       30 days\n",
       "24       20 days\n",
       "25       30 days\n",
       "26       30 days\n",
       "27       30 days\n",
       "28       30 days\n",
       "29       30 days\n",
       "           ...  \n",
       "378631   30 days\n",
       "378632   30 days\n",
       "378633   30 days\n",
       "378634   61 days\n",
       "378635   30 days\n",
       "378636   30 days\n",
       "378637   45 days\n",
       "378638   31 days\n",
       "378639   30 days\n",
       "378640   34 days\n",
       "378641   60 days\n",
       "378642   27 days\n",
       "378643   21 days\n",
       "378644   22 days\n",
       "378645   30 days\n",
       "378646   43 days\n",
       "378647   30 days\n",
       "378648   30 days\n",
       "378649   60 days\n",
       "378650   38 days\n",
       "378651   30 days\n",
       "378652   30 days\n",
       "378653   30 days\n",
       "378654   30 days\n",
       "378655   45 days\n",
       "378656   30 days\n",
       "378657   27 days\n",
       "378658   46 days\n",
       "378659   31 days\n",
       "378660   28 days\n",
       "Name: period, dtype: timedelta64[ns]"
      ]
     },
     "execution_count": 41,
     "metadata": {},
     "output_type": "execute_result"
    }
   ],
   "source": [
    "df['period']"
   ]
  },
  {
   "cell_type": "code",
   "execution_count": 42,
   "metadata": {
    "collapsed": false
   },
   "outputs": [
    {
     "data": {
      "text/html": [
       "<div>\n",
       "<table border=\"1\" class=\"dataframe\">\n",
       "  <thead>\n",
       "    <tr style=\"text-align: right;\">\n",
       "      <th></th>\n",
       "      <th>ID</th>\n",
       "      <th>name</th>\n",
       "      <th>category</th>\n",
       "      <th>main_category</th>\n",
       "      <th>currency</th>\n",
       "      <th>deadline</th>\n",
       "      <th>goal</th>\n",
       "      <th>launched</th>\n",
       "      <th>pledged</th>\n",
       "      <th>state</th>\n",
       "      <th>backers</th>\n",
       "      <th>country</th>\n",
       "      <th>usd pledged</th>\n",
       "      <th>usd_pledged_real</th>\n",
       "      <th>realnotreal</th>\n",
       "      <th>Year</th>\n",
       "      <th>launched_date</th>\n",
       "      <th>period</th>\n",
       "    </tr>\n",
       "  </thead>\n",
       "  <tbody>\n",
       "    <tr>\n",
       "      <th>0</th>\n",
       "      <td>1000002330</td>\n",
       "      <td>The Songs of Adelaide &amp; Abullah</td>\n",
       "      <td>Poetry</td>\n",
       "      <td>Publishing</td>\n",
       "      <td>GBP</td>\n",
       "      <td>2015-10-09</td>\n",
       "      <td>1000.0</td>\n",
       "      <td>2015-08-11 12:12:00</td>\n",
       "      <td>0.0</td>\n",
       "      <td>failed</td>\n",
       "      <td>0</td>\n",
       "      <td>GB</td>\n",
       "      <td>0.0</td>\n",
       "      <td>0.0</td>\n",
       "      <td>True</td>\n",
       "      <td>2015</td>\n",
       "      <td>2015-08-11</td>\n",
       "      <td>59 days</td>\n",
       "    </tr>\n",
       "    <tr>\n",
       "      <th>1</th>\n",
       "      <td>1000003930</td>\n",
       "      <td>Greeting From Earth: ZGAC Arts Capsule For ET</td>\n",
       "      <td>Narrative Film</td>\n",
       "      <td>Film &amp; Video</td>\n",
       "      <td>USD</td>\n",
       "      <td>2017-11-01</td>\n",
       "      <td>30000.0</td>\n",
       "      <td>2017-09-02 04:43:00</td>\n",
       "      <td>2421.0</td>\n",
       "      <td>failed</td>\n",
       "      <td>15</td>\n",
       "      <td>US</td>\n",
       "      <td>100.0</td>\n",
       "      <td>2421.0</td>\n",
       "      <td>False</td>\n",
       "      <td>2017</td>\n",
       "      <td>2017-09-02</td>\n",
       "      <td>60 days</td>\n",
       "    </tr>\n",
       "    <tr>\n",
       "      <th>2</th>\n",
       "      <td>1000004038</td>\n",
       "      <td>Where is Hank?</td>\n",
       "      <td>Narrative Film</td>\n",
       "      <td>Film &amp; Video</td>\n",
       "      <td>USD</td>\n",
       "      <td>2013-02-26</td>\n",
       "      <td>45000.0</td>\n",
       "      <td>2013-01-12 00:20:00</td>\n",
       "      <td>220.0</td>\n",
       "      <td>failed</td>\n",
       "      <td>3</td>\n",
       "      <td>US</td>\n",
       "      <td>220.0</td>\n",
       "      <td>220.0</td>\n",
       "      <td>True</td>\n",
       "      <td>2013</td>\n",
       "      <td>2013-01-12</td>\n",
       "      <td>45 days</td>\n",
       "    </tr>\n",
       "    <tr>\n",
       "      <th>3</th>\n",
       "      <td>1000007540</td>\n",
       "      <td>ToshiCapital Rekordz Needs Help to Complete Album</td>\n",
       "      <td>Music</td>\n",
       "      <td>Music</td>\n",
       "      <td>USD</td>\n",
       "      <td>2012-04-16</td>\n",
       "      <td>5000.0</td>\n",
       "      <td>2012-03-17 03:24:00</td>\n",
       "      <td>1.0</td>\n",
       "      <td>failed</td>\n",
       "      <td>1</td>\n",
       "      <td>US</td>\n",
       "      <td>1.0</td>\n",
       "      <td>1.0</td>\n",
       "      <td>True</td>\n",
       "      <td>2012</td>\n",
       "      <td>2012-03-17</td>\n",
       "      <td>30 days</td>\n",
       "    </tr>\n",
       "    <tr>\n",
       "      <th>4</th>\n",
       "      <td>1000011046</td>\n",
       "      <td>Community Film Project: The Art of Neighborhoo...</td>\n",
       "      <td>Film &amp; Video</td>\n",
       "      <td>Film &amp; Video</td>\n",
       "      <td>USD</td>\n",
       "      <td>2015-08-29</td>\n",
       "      <td>19500.0</td>\n",
       "      <td>2015-07-04 08:35:00</td>\n",
       "      <td>1283.0</td>\n",
       "      <td>canceled</td>\n",
       "      <td>14</td>\n",
       "      <td>US</td>\n",
       "      <td>1283.0</td>\n",
       "      <td>1283.0</td>\n",
       "      <td>True</td>\n",
       "      <td>2015</td>\n",
       "      <td>2015-07-04</td>\n",
       "      <td>56 days</td>\n",
       "    </tr>\n",
       "  </tbody>\n",
       "</table>\n",
       "</div>"
      ],
      "text/plain": [
       "           ID                                               name  \\\n",
       "0  1000002330                    The Songs of Adelaide & Abullah   \n",
       "1  1000003930      Greeting From Earth: ZGAC Arts Capsule For ET   \n",
       "2  1000004038                                     Where is Hank?   \n",
       "3  1000007540  ToshiCapital Rekordz Needs Help to Complete Album   \n",
       "4  1000011046  Community Film Project: The Art of Neighborhoo...   \n",
       "\n",
       "         category main_category currency   deadline     goal  \\\n",
       "0          Poetry    Publishing      GBP 2015-10-09   1000.0   \n",
       "1  Narrative Film  Film & Video      USD 2017-11-01  30000.0   \n",
       "2  Narrative Film  Film & Video      USD 2013-02-26  45000.0   \n",
       "3           Music         Music      USD 2012-04-16   5000.0   \n",
       "4    Film & Video  Film & Video      USD 2015-08-29  19500.0   \n",
       "\n",
       "             launched  pledged     state  backers country  usd pledged  \\\n",
       "0 2015-08-11 12:12:00      0.0    failed        0      GB          0.0   \n",
       "1 2017-09-02 04:43:00   2421.0    failed       15      US        100.0   \n",
       "2 2013-01-12 00:20:00    220.0    failed        3      US        220.0   \n",
       "3 2012-03-17 03:24:00      1.0    failed        1      US          1.0   \n",
       "4 2015-07-04 08:35:00   1283.0  canceled       14      US       1283.0   \n",
       "\n",
       "   usd_pledged_real realnotreal  Year launched_date  period  \n",
       "0               0.0        True  2015    2015-08-11 59 days  \n",
       "1            2421.0       False  2017    2017-09-02 60 days  \n",
       "2             220.0        True  2013    2013-01-12 45 days  \n",
       "3               1.0        True  2012    2012-03-17 30 days  \n",
       "4            1283.0        True  2015    2015-07-04 56 days  "
      ]
     },
     "execution_count": 42,
     "metadata": {},
     "output_type": "execute_result"
    }
   ],
   "source": [
    "df.head()"
   ]
  },
  {
   "cell_type": "code",
   "execution_count": 43,
   "metadata": {
    "collapsed": false
   },
   "outputs": [
    {
     "data": {
      "text/plain": [
       "True     262248\n",
       "False    116413\n",
       "Name: realnotreal, dtype: int64"
      ]
     },
     "execution_count": 43,
     "metadata": {},
     "output_type": "execute_result"
    }
   ],
   "source": [
    "df['realnotreal'].value_counts()"
   ]
  },
  {
   "cell_type": "code",
   "execution_count": 44,
   "metadata": {
    "collapsed": true
   },
   "outputs": [],
   "source": [
    "df['real_less_then_pledged'] = df['usd_pledged_real']>df['usd pledged']"
   ]
  },
  {
   "cell_type": "code",
   "execution_count": 45,
   "metadata": {
    "collapsed": false
   },
   "outputs": [
    {
     "data": {
      "text/plain": [
       "0         False\n",
       "1          True\n",
       "2         False\n",
       "3         False\n",
       "4         False\n",
       "5         False\n",
       "6         False\n",
       "7         False\n",
       "8         False\n",
       "9         False\n",
       "10        False\n",
       "11        False\n",
       "12        False\n",
       "13        False\n",
       "14         True\n",
       "15        False\n",
       "16        False\n",
       "17        False\n",
       "18        False\n",
       "19        False\n",
       "20        False\n",
       "21         True\n",
       "22        False\n",
       "23         True\n",
       "24        False\n",
       "25        False\n",
       "26        False\n",
       "27        False\n",
       "28        False\n",
       "29         True\n",
       "          ...  \n",
       "378631    False\n",
       "378632    False\n",
       "378633    False\n",
       "378634    False\n",
       "378635    False\n",
       "378636    False\n",
       "378637     True\n",
       "378638    False\n",
       "378639    False\n",
       "378640    False\n",
       "378641    False\n",
       "378642     True\n",
       "378643    False\n",
       "378644    False\n",
       "378645     True\n",
       "378646    False\n",
       "378647    False\n",
       "378648    False\n",
       "378649     True\n",
       "378650    False\n",
       "378651    False\n",
       "378652     True\n",
       "378653    False\n",
       "378654     True\n",
       "378655    False\n",
       "378656    False\n",
       "378657    False\n",
       "378658    False\n",
       "378659    False\n",
       "378660    False\n",
       "Name: real_less_then_pledged, dtype: bool"
      ]
     },
     "execution_count": 45,
     "metadata": {},
     "output_type": "execute_result"
    }
   ],
   "source": [
    "df['real_less_then_pledged']"
   ]
  },
  {
   "cell_type": "code",
   "execution_count": 46,
   "metadata": {
    "collapsed": false
   },
   "outputs": [
    {
     "data": {
      "text/plain": [
       "False    292578\n",
       "True      86083\n",
       "Name: real_less_then_pledged, dtype: int64"
      ]
     },
     "execution_count": 46,
     "metadata": {},
     "output_type": "execute_result"
    }
   ],
   "source": [
    "df.real_less_then_pledged.value_counts()"
   ]
  },
  {
   "cell_type": "code",
   "execution_count": 84,
   "metadata": {
    "collapsed": false
   },
   "outputs": [
    {
     "data": {
      "text/html": [
       "<div>\n",
       "<table border=\"1\" class=\"dataframe\">\n",
       "  <thead>\n",
       "    <tr style=\"text-align: right;\">\n",
       "      <th></th>\n",
       "      <th>ID</th>\n",
       "      <th>name</th>\n",
       "      <th>category</th>\n",
       "      <th>main_category</th>\n",
       "      <th>currency</th>\n",
       "      <th>deadline</th>\n",
       "      <th>goal</th>\n",
       "      <th>launched</th>\n",
       "      <th>pledged</th>\n",
       "      <th>state</th>\n",
       "      <th>backers</th>\n",
       "      <th>country</th>\n",
       "      <th>usd pledged</th>\n",
       "      <th>usd_pledged_real</th>\n",
       "      <th>realnotreal</th>\n",
       "      <th>Year</th>\n",
       "      <th>launched_date</th>\n",
       "      <th>period</th>\n",
       "      <th>real_less_then_pledged</th>\n",
       "      <th>success</th>\n",
       "    </tr>\n",
       "  </thead>\n",
       "  <tbody>\n",
       "    <tr>\n",
       "      <th>14</th>\n",
       "      <td>1000057089</td>\n",
       "      <td>Tombstone: Old West tabletop game and miniatur...</td>\n",
       "      <td>Tabletop Games</td>\n",
       "      <td>Games</td>\n",
       "      <td>GBP</td>\n",
       "      <td>2017-05-03</td>\n",
       "      <td>5000.0</td>\n",
       "      <td>2017-04-05 19:44:00</td>\n",
       "      <td>94175.00</td>\n",
       "      <td>successful</td>\n",
       "      <td>761</td>\n",
       "      <td>GB</td>\n",
       "      <td>57763.779680</td>\n",
       "      <td>121857.329600</td>\n",
       "      <td>False</td>\n",
       "      <td>2017</td>\n",
       "      <td>2017-04-05</td>\n",
       "      <td>28 days</td>\n",
       "      <td>True</td>\n",
       "      <td>True</td>\n",
       "    </tr>\n",
       "    <tr>\n",
       "      <th>29</th>\n",
       "      <td>100011318</td>\n",
       "      <td>My Moon - Animated Short Film</td>\n",
       "      <td>Animation</td>\n",
       "      <td>Film &amp; Video</td>\n",
       "      <td>USD</td>\n",
       "      <td>2017-05-03</td>\n",
       "      <td>50000.0</td>\n",
       "      <td>2017-04-03 17:11:00</td>\n",
       "      <td>57577.31</td>\n",
       "      <td>successful</td>\n",
       "      <td>840</td>\n",
       "      <td>US</td>\n",
       "      <td>10120.000000</td>\n",
       "      <td>57577.310000</td>\n",
       "      <td>False</td>\n",
       "      <td>2017</td>\n",
       "      <td>2017-04-03</td>\n",
       "      <td>30 days</td>\n",
       "      <td>True</td>\n",
       "      <td>True</td>\n",
       "    </tr>\n",
       "    <tr>\n",
       "      <th>31</th>\n",
       "      <td>1000117861</td>\n",
       "      <td>Ledr workbook: one tough journal!</td>\n",
       "      <td>Product Design</td>\n",
       "      <td>Design</td>\n",
       "      <td>USD</td>\n",
       "      <td>2016-10-08</td>\n",
       "      <td>1000.0</td>\n",
       "      <td>2016-09-07 13:14:00</td>\n",
       "      <td>47266.00</td>\n",
       "      <td>successful</td>\n",
       "      <td>549</td>\n",
       "      <td>US</td>\n",
       "      <td>11253.000000</td>\n",
       "      <td>47266.000000</td>\n",
       "      <td>False</td>\n",
       "      <td>2016</td>\n",
       "      <td>2016-09-07</td>\n",
       "      <td>31 days</td>\n",
       "      <td>True</td>\n",
       "      <td>True</td>\n",
       "    </tr>\n",
       "    <tr>\n",
       "      <th>41</th>\n",
       "      <td>1000153208</td>\n",
       "      <td>Phil Younger - Slow Down (Official Music Video)</td>\n",
       "      <td>Music</td>\n",
       "      <td>Music</td>\n",
       "      <td>USD</td>\n",
       "      <td>2016-12-20</td>\n",
       "      <td>2100.0</td>\n",
       "      <td>2016-12-09 20:27:00</td>\n",
       "      <td>2100.00</td>\n",
       "      <td>successful</td>\n",
       "      <td>34</td>\n",
       "      <td>US</td>\n",
       "      <td>83.000000</td>\n",
       "      <td>2100.000000</td>\n",
       "      <td>False</td>\n",
       "      <td>2016</td>\n",
       "      <td>2016-12-09</td>\n",
       "      <td>11 days</td>\n",
       "      <td>True</td>\n",
       "      <td>True</td>\n",
       "    </tr>\n",
       "    <tr>\n",
       "      <th>85</th>\n",
       "      <td>1000335422</td>\n",
       "      <td>\"Where is Home?\" Anthology</td>\n",
       "      <td>Anthologies</td>\n",
       "      <td>Comics</td>\n",
       "      <td>CAD</td>\n",
       "      <td>2014-07-10</td>\n",
       "      <td>4000.0</td>\n",
       "      <td>2014-06-10 00:09:00</td>\n",
       "      <td>4944.50</td>\n",
       "      <td>successful</td>\n",
       "      <td>153</td>\n",
       "      <td>CA</td>\n",
       "      <td>4523.365612</td>\n",
       "      <td>4646.649751</td>\n",
       "      <td>False</td>\n",
       "      <td>2014</td>\n",
       "      <td>2014-06-10</td>\n",
       "      <td>30 days</td>\n",
       "      <td>True</td>\n",
       "      <td>True</td>\n",
       "    </tr>\n",
       "  </tbody>\n",
       "</table>\n",
       "</div>"
      ],
      "text/plain": [
       "            ID                                               name  \\\n",
       "14  1000057089  Tombstone: Old West tabletop game and miniatur...   \n",
       "29   100011318                      My Moon - Animated Short Film   \n",
       "31  1000117861                  Ledr workbook: one tough journal!   \n",
       "41  1000153208    Phil Younger - Slow Down (Official Music Video)   \n",
       "85  1000335422                         \"Where is Home?\" Anthology   \n",
       "\n",
       "          category main_category currency   deadline     goal  \\\n",
       "14  Tabletop Games         Games      GBP 2017-05-03   5000.0   \n",
       "29       Animation  Film & Video      USD 2017-05-03  50000.0   \n",
       "31  Product Design        Design      USD 2016-10-08   1000.0   \n",
       "41           Music         Music      USD 2016-12-20   2100.0   \n",
       "85     Anthologies        Comics      CAD 2014-07-10   4000.0   \n",
       "\n",
       "              launched   pledged       state  backers country   usd pledged  \\\n",
       "14 2017-04-05 19:44:00  94175.00  successful      761      GB  57763.779680   \n",
       "29 2017-04-03 17:11:00  57577.31  successful      840      US  10120.000000   \n",
       "31 2016-09-07 13:14:00  47266.00  successful      549      US  11253.000000   \n",
       "41 2016-12-09 20:27:00   2100.00  successful       34      US     83.000000   \n",
       "85 2014-06-10 00:09:00   4944.50  successful      153      CA   4523.365612   \n",
       "\n",
       "    usd_pledged_real realnotreal  Year launched_date  period  \\\n",
       "14     121857.329600       False  2017    2017-04-05 28 days   \n",
       "29      57577.310000       False  2017    2017-04-03 30 days   \n",
       "31      47266.000000       False  2016    2016-09-07 31 days   \n",
       "41       2100.000000       False  2016    2016-12-09 11 days   \n",
       "85       4646.649751       False  2014    2014-06-10 30 days   \n",
       "\n",
       "   real_less_then_pledged success  \n",
       "14                   True    True  \n",
       "29                   True    True  \n",
       "31                   True    True  \n",
       "41                   True    True  \n",
       "85                   True    True  "
      ]
     },
     "execution_count": 84,
     "metadata": {},
     "output_type": "execute_result"
    }
   ],
   "source": [
    "df[(df.state == 'successful') & (df.real_less_then_pledged == True)].head()"
   ]
  },
  {
   "cell_type": "code",
   "execution_count": 85,
   "metadata": {
    "collapsed": false
   },
   "outputs": [
    {
     "data": {
      "text/html": [
       "<div>\n",
       "<table border=\"1\" class=\"dataframe\">\n",
       "  <thead>\n",
       "    <tr style=\"text-align: right;\">\n",
       "      <th></th>\n",
       "      <th>ID</th>\n",
       "      <th>name</th>\n",
       "      <th>category</th>\n",
       "      <th>main_category</th>\n",
       "      <th>currency</th>\n",
       "      <th>deadline</th>\n",
       "      <th>goal</th>\n",
       "      <th>launched</th>\n",
       "      <th>pledged</th>\n",
       "      <th>state</th>\n",
       "      <th>backers</th>\n",
       "      <th>country</th>\n",
       "      <th>usd pledged</th>\n",
       "      <th>usd_pledged_real</th>\n",
       "      <th>realnotreal</th>\n",
       "      <th>Year</th>\n",
       "      <th>launched_date</th>\n",
       "      <th>period</th>\n",
       "      <th>real_less_then_pledged</th>\n",
       "      <th>success</th>\n",
       "    </tr>\n",
       "  </thead>\n",
       "  <tbody>\n",
       "    <tr>\n",
       "      <th>5</th>\n",
       "      <td>1000014025</td>\n",
       "      <td>Monarch Espresso Bar</td>\n",
       "      <td>Restaurants</td>\n",
       "      <td>Food</td>\n",
       "      <td>USD</td>\n",
       "      <td>2016-04-01</td>\n",
       "      <td>50000.0</td>\n",
       "      <td>2016-02-26 13:38:00</td>\n",
       "      <td>52375.0</td>\n",
       "      <td>successful</td>\n",
       "      <td>224</td>\n",
       "      <td>US</td>\n",
       "      <td>52375.0</td>\n",
       "      <td>52375.0</td>\n",
       "      <td>True</td>\n",
       "      <td>2016</td>\n",
       "      <td>2016-02-26</td>\n",
       "      <td>35 days</td>\n",
       "      <td>False</td>\n",
       "      <td>True</td>\n",
       "    </tr>\n",
       "    <tr>\n",
       "      <th>6</th>\n",
       "      <td>1000023410</td>\n",
       "      <td>Support Solar Roasted Coffee &amp; Green Energy!  ...</td>\n",
       "      <td>Food</td>\n",
       "      <td>Food</td>\n",
       "      <td>USD</td>\n",
       "      <td>2014-12-21</td>\n",
       "      <td>1000.0</td>\n",
       "      <td>2014-12-01 18:30:00</td>\n",
       "      <td>1205.0</td>\n",
       "      <td>successful</td>\n",
       "      <td>16</td>\n",
       "      <td>US</td>\n",
       "      <td>1205.0</td>\n",
       "      <td>1205.0</td>\n",
       "      <td>True</td>\n",
       "      <td>2014</td>\n",
       "      <td>2014-12-01</td>\n",
       "      <td>20 days</td>\n",
       "      <td>False</td>\n",
       "      <td>True</td>\n",
       "    </tr>\n",
       "    <tr>\n",
       "      <th>11</th>\n",
       "      <td>100005484</td>\n",
       "      <td>Lisa Lim New CD!</td>\n",
       "      <td>Indie Rock</td>\n",
       "      <td>Music</td>\n",
       "      <td>USD</td>\n",
       "      <td>2013-04-08</td>\n",
       "      <td>12500.0</td>\n",
       "      <td>2013-03-09 06:42:00</td>\n",
       "      <td>12700.0</td>\n",
       "      <td>successful</td>\n",
       "      <td>100</td>\n",
       "      <td>US</td>\n",
       "      <td>12700.0</td>\n",
       "      <td>12700.0</td>\n",
       "      <td>True</td>\n",
       "      <td>2013</td>\n",
       "      <td>2013-03-09</td>\n",
       "      <td>30 days</td>\n",
       "      <td>False</td>\n",
       "      <td>True</td>\n",
       "    </tr>\n",
       "    <tr>\n",
       "      <th>18</th>\n",
       "      <td>1000070642</td>\n",
       "      <td>Mike Corey's Darkness &amp; Light Album</td>\n",
       "      <td>Music</td>\n",
       "      <td>Music</td>\n",
       "      <td>USD</td>\n",
       "      <td>2012-08-17</td>\n",
       "      <td>250.0</td>\n",
       "      <td>2012-08-02 14:11:00</td>\n",
       "      <td>250.0</td>\n",
       "      <td>successful</td>\n",
       "      <td>7</td>\n",
       "      <td>US</td>\n",
       "      <td>250.0</td>\n",
       "      <td>250.0</td>\n",
       "      <td>True</td>\n",
       "      <td>2012</td>\n",
       "      <td>2012-08-02</td>\n",
       "      <td>15 days</td>\n",
       "      <td>False</td>\n",
       "      <td>True</td>\n",
       "    </tr>\n",
       "    <tr>\n",
       "      <th>20</th>\n",
       "      <td>1000072011</td>\n",
       "      <td>CMUK. Shoes: Take on Life Feet First.</td>\n",
       "      <td>Fashion</td>\n",
       "      <td>Fashion</td>\n",
       "      <td>USD</td>\n",
       "      <td>2013-12-30</td>\n",
       "      <td>20000.0</td>\n",
       "      <td>2013-11-25 07:06:00</td>\n",
       "      <td>34268.0</td>\n",
       "      <td>successful</td>\n",
       "      <td>624</td>\n",
       "      <td>US</td>\n",
       "      <td>34268.0</td>\n",
       "      <td>34268.0</td>\n",
       "      <td>True</td>\n",
       "      <td>2013</td>\n",
       "      <td>2013-11-25</td>\n",
       "      <td>35 days</td>\n",
       "      <td>False</td>\n",
       "      <td>True</td>\n",
       "    </tr>\n",
       "  </tbody>\n",
       "</table>\n",
       "</div>"
      ],
      "text/plain": [
       "            ID                                               name  \\\n",
       "5   1000014025                               Monarch Espresso Bar   \n",
       "6   1000023410  Support Solar Roasted Coffee & Green Energy!  ...   \n",
       "11   100005484                                   Lisa Lim New CD!   \n",
       "18  1000070642                Mike Corey's Darkness & Light Album   \n",
       "20  1000072011              CMUK. Shoes: Take on Life Feet First.   \n",
       "\n",
       "       category main_category currency   deadline     goal  \\\n",
       "5   Restaurants          Food      USD 2016-04-01  50000.0   \n",
       "6          Food          Food      USD 2014-12-21   1000.0   \n",
       "11   Indie Rock         Music      USD 2013-04-08  12500.0   \n",
       "18        Music         Music      USD 2012-08-17    250.0   \n",
       "20      Fashion       Fashion      USD 2013-12-30  20000.0   \n",
       "\n",
       "              launched  pledged       state  backers country  usd pledged  \\\n",
       "5  2016-02-26 13:38:00  52375.0  successful      224      US      52375.0   \n",
       "6  2014-12-01 18:30:00   1205.0  successful       16      US       1205.0   \n",
       "11 2013-03-09 06:42:00  12700.0  successful      100      US      12700.0   \n",
       "18 2012-08-02 14:11:00    250.0  successful        7      US        250.0   \n",
       "20 2013-11-25 07:06:00  34268.0  successful      624      US      34268.0   \n",
       "\n",
       "    usd_pledged_real realnotreal  Year launched_date  period  \\\n",
       "5            52375.0        True  2016    2016-02-26 35 days   \n",
       "6             1205.0        True  2014    2014-12-01 20 days   \n",
       "11           12700.0        True  2013    2013-03-09 30 days   \n",
       "18             250.0        True  2012    2012-08-02 15 days   \n",
       "20           34268.0        True  2013    2013-11-25 35 days   \n",
       "\n",
       "   real_less_then_pledged success  \n",
       "5                   False    True  \n",
       "6                   False    True  \n",
       "11                  False    True  \n",
       "18                  False    True  \n",
       "20                  False    True  "
      ]
     },
     "execution_count": 85,
     "metadata": {},
     "output_type": "execute_result"
    }
   ],
   "source": [
    "df[(df.state == 'successful') & (df.real_less_then_pledged == False)].head()"
   ]
  },
  {
   "cell_type": "code",
   "execution_count": 49,
   "metadata": {
    "collapsed": true
   },
   "outputs": [],
   "source": [
    "df['success'] = df['pledged']>= df['goal']"
   ]
  },
  {
   "cell_type": "code",
   "execution_count": 86,
   "metadata": {
    "collapsed": false
   },
   "outputs": [
    {
     "data": {
      "text/plain": [
       "0    False\n",
       "1    False\n",
       "2    False\n",
       "3    False\n",
       "4    False\n",
       "Name: success, dtype: bool"
      ]
     },
     "execution_count": 86,
     "metadata": {},
     "output_type": "execute_result"
    }
   ],
   "source": [
    "df['success'].head()"
   ]
  },
  {
   "cell_type": "code",
   "execution_count": 88,
   "metadata": {
    "collapsed": false
   },
   "outputs": [
    {
     "data": {
      "text/html": [
       "<div>\n",
       "<table border=\"1\" class=\"dataframe\">\n",
       "  <thead>\n",
       "    <tr style=\"text-align: right;\">\n",
       "      <th></th>\n",
       "      <th>ID</th>\n",
       "      <th>name</th>\n",
       "      <th>category</th>\n",
       "      <th>main_category</th>\n",
       "      <th>currency</th>\n",
       "      <th>deadline</th>\n",
       "      <th>goal</th>\n",
       "      <th>launched</th>\n",
       "      <th>pledged</th>\n",
       "      <th>state</th>\n",
       "      <th>backers</th>\n",
       "      <th>country</th>\n",
       "      <th>usd pledged</th>\n",
       "      <th>usd_pledged_real</th>\n",
       "      <th>realnotreal</th>\n",
       "      <th>Year</th>\n",
       "      <th>launched_date</th>\n",
       "      <th>period</th>\n",
       "      <th>real_less_then_pledged</th>\n",
       "      <th>success</th>\n",
       "    </tr>\n",
       "  </thead>\n",
       "  <tbody>\n",
       "    <tr>\n",
       "      <th>72483</th>\n",
       "      <td>1368992939</td>\n",
       "      <td>Santa's Sled</td>\n",
       "      <td>Art</td>\n",
       "      <td>Art</td>\n",
       "      <td>USD</td>\n",
       "      <td>2012-08-27</td>\n",
       "      <td>3600.0</td>\n",
       "      <td>2012-07-26 03:31:00</td>\n",
       "      <td>3599.69</td>\n",
       "      <td>successful</td>\n",
       "      <td>64</td>\n",
       "      <td>US</td>\n",
       "      <td>3599.69000</td>\n",
       "      <td>3599.69000</td>\n",
       "      <td>True</td>\n",
       "      <td>2012</td>\n",
       "      <td>2012-07-26</td>\n",
       "      <td>32 days</td>\n",
       "      <td>False</td>\n",
       "      <td>False</td>\n",
       "    </tr>\n",
       "    <tr>\n",
       "      <th>151490</th>\n",
       "      <td>1769772834</td>\n",
       "      <td>Borders of the Imagination - An Epic Sci-Fi/Fa...</td>\n",
       "      <td>Shorts</td>\n",
       "      <td>Film &amp; Video</td>\n",
       "      <td>USD</td>\n",
       "      <td>2015-12-27</td>\n",
       "      <td>36000.0</td>\n",
       "      <td>2015-11-12 19:06:00</td>\n",
       "      <td>30716.00</td>\n",
       "      <td>successful</td>\n",
       "      <td>275</td>\n",
       "      <td>US</td>\n",
       "      <td>30716.00000</td>\n",
       "      <td>30716.00000</td>\n",
       "      <td>True</td>\n",
       "      <td>2015</td>\n",
       "      <td>2015-11-12</td>\n",
       "      <td>45 days</td>\n",
       "      <td>False</td>\n",
       "      <td>False</td>\n",
       "    </tr>\n",
       "    <tr>\n",
       "      <th>232422</th>\n",
       "      <td>251325270</td>\n",
       "      <td>Documentary film about Les Blank.</td>\n",
       "      <td>Documentary</td>\n",
       "      <td>Film &amp; Video</td>\n",
       "      <td>USD</td>\n",
       "      <td>2010-07-18</td>\n",
       "      <td>8000.0</td>\n",
       "      <td>2010-06-02 22:15:00</td>\n",
       "      <td>7999.65</td>\n",
       "      <td>successful</td>\n",
       "      <td>73</td>\n",
       "      <td>US</td>\n",
       "      <td>7999.65000</td>\n",
       "      <td>7999.65000</td>\n",
       "      <td>True</td>\n",
       "      <td>2010</td>\n",
       "      <td>2010-06-02</td>\n",
       "      <td>46 days</td>\n",
       "      <td>False</td>\n",
       "      <td>False</td>\n",
       "    </tr>\n",
       "    <tr>\n",
       "      <th>275777</th>\n",
       "      <td>4732285</td>\n",
       "      <td>Insiders/Out: Exploring Outsider Art in America</td>\n",
       "      <td>Art</td>\n",
       "      <td>Art</td>\n",
       "      <td>USD</td>\n",
       "      <td>2010-07-08</td>\n",
       "      <td>2000.0</td>\n",
       "      <td>2010-05-27 00:26:00</td>\n",
       "      <td>1999.66</td>\n",
       "      <td>successful</td>\n",
       "      <td>30</td>\n",
       "      <td>US</td>\n",
       "      <td>1999.66000</td>\n",
       "      <td>1999.66000</td>\n",
       "      <td>True</td>\n",
       "      <td>2010</td>\n",
       "      <td>2010-05-27</td>\n",
       "      <td>42 days</td>\n",
       "      <td>False</td>\n",
       "      <td>False</td>\n",
       "    </tr>\n",
       "    <tr>\n",
       "      <th>335859</th>\n",
       "      <td>780863434</td>\n",
       "      <td>TUW Ruhla Watches - Comeback of a Legend</td>\n",
       "      <td>Product Design</td>\n",
       "      <td>Design</td>\n",
       "      <td>EUR</td>\n",
       "      <td>2016-03-19</td>\n",
       "      <td>25000.0</td>\n",
       "      <td>2016-02-08 19:14:00</td>\n",
       "      <td>24892.50</td>\n",
       "      <td>successful</td>\n",
       "      <td>90</td>\n",
       "      <td>DE</td>\n",
       "      <td>27778.24272</td>\n",
       "      <td>27765.07462</td>\n",
       "      <td>False</td>\n",
       "      <td>2016</td>\n",
       "      <td>2016-02-08</td>\n",
       "      <td>40 days</td>\n",
       "      <td>False</td>\n",
       "      <td>False</td>\n",
       "    </tr>\n",
       "  </tbody>\n",
       "</table>\n",
       "</div>"
      ],
      "text/plain": [
       "                ID                                               name  \\\n",
       "72483   1368992939                                       Santa's Sled   \n",
       "151490  1769772834  Borders of the Imagination - An Epic Sci-Fi/Fa...   \n",
       "232422   251325270                  Documentary film about Les Blank.   \n",
       "275777     4732285    Insiders/Out: Exploring Outsider Art in America   \n",
       "335859   780863434           TUW Ruhla Watches - Comeback of a Legend   \n",
       "\n",
       "              category main_category currency   deadline     goal  \\\n",
       "72483              Art           Art      USD 2012-08-27   3600.0   \n",
       "151490          Shorts  Film & Video      USD 2015-12-27  36000.0   \n",
       "232422     Documentary  Film & Video      USD 2010-07-18   8000.0   \n",
       "275777             Art           Art      USD 2010-07-08   2000.0   \n",
       "335859  Product Design        Design      EUR 2016-03-19  25000.0   \n",
       "\n",
       "                  launched   pledged       state  backers country  \\\n",
       "72483  2012-07-26 03:31:00   3599.69  successful       64      US   \n",
       "151490 2015-11-12 19:06:00  30716.00  successful      275      US   \n",
       "232422 2010-06-02 22:15:00   7999.65  successful       73      US   \n",
       "275777 2010-05-27 00:26:00   1999.66  successful       30      US   \n",
       "335859 2016-02-08 19:14:00  24892.50  successful       90      DE   \n",
       "\n",
       "        usd pledged  usd_pledged_real realnotreal  Year launched_date  period  \\\n",
       "72483    3599.69000        3599.69000        True  2012    2012-07-26 32 days   \n",
       "151490  30716.00000       30716.00000        True  2015    2015-11-12 45 days   \n",
       "232422   7999.65000        7999.65000        True  2010    2010-06-02 46 days   \n",
       "275777   1999.66000        1999.66000        True  2010    2010-05-27 42 days   \n",
       "335859  27778.24272       27765.07462       False  2016    2016-02-08 40 days   \n",
       "\n",
       "       real_less_then_pledged success  \n",
       "72483                   False   False  \n",
       "151490                  False   False  \n",
       "232422                  False   False  \n",
       "275777                  False   False  \n",
       "335859                  False   False  "
      ]
     },
     "execution_count": 88,
     "metadata": {},
     "output_type": "execute_result"
    }
   ],
   "source": [
    "df[(df.success == False) &(df.state =='successful')]"
   ]
  },
  {
   "cell_type": "code",
   "execution_count": 52,
   "metadata": {
    "collapsed": false
   },
   "outputs": [],
   "source": [
    "df_p=df[(df.state == 'successful')|(df.state == 'failed')]"
   ]
  },
  {
   "cell_type": "code",
   "execution_count": 89,
   "metadata": {
    "collapsed": false
   },
   "outputs": [
    {
     "data": {
      "text/html": [
       "<div>\n",
       "<table border=\"1\" class=\"dataframe\">\n",
       "  <thead>\n",
       "    <tr style=\"text-align: right;\">\n",
       "      <th></th>\n",
       "      <th>ID</th>\n",
       "      <th>name</th>\n",
       "      <th>category</th>\n",
       "      <th>main_category</th>\n",
       "      <th>currency</th>\n",
       "      <th>deadline</th>\n",
       "      <th>goal</th>\n",
       "      <th>launched</th>\n",
       "      <th>pledged</th>\n",
       "      <th>state</th>\n",
       "      <th>backers</th>\n",
       "      <th>country</th>\n",
       "      <th>usd pledged</th>\n",
       "      <th>usd_pledged_real</th>\n",
       "      <th>realnotreal</th>\n",
       "      <th>Year</th>\n",
       "      <th>launched_date</th>\n",
       "      <th>period</th>\n",
       "      <th>real_less_then_pledged</th>\n",
       "      <th>success</th>\n",
       "    </tr>\n",
       "  </thead>\n",
       "  <tbody>\n",
       "    <tr>\n",
       "      <th>0</th>\n",
       "      <td>1000002330</td>\n",
       "      <td>The Songs of Adelaide &amp; Abullah</td>\n",
       "      <td>Poetry</td>\n",
       "      <td>Publishing</td>\n",
       "      <td>GBP</td>\n",
       "      <td>2015-10-09</td>\n",
       "      <td>1000.0</td>\n",
       "      <td>2015-08-11 12:12:00</td>\n",
       "      <td>0.0</td>\n",
       "      <td>failed</td>\n",
       "      <td>0</td>\n",
       "      <td>GB</td>\n",
       "      <td>0.0</td>\n",
       "      <td>0.0</td>\n",
       "      <td>True</td>\n",
       "      <td>2015</td>\n",
       "      <td>2015-08-11</td>\n",
       "      <td>59 days</td>\n",
       "      <td>False</td>\n",
       "      <td>False</td>\n",
       "    </tr>\n",
       "    <tr>\n",
       "      <th>1</th>\n",
       "      <td>1000003930</td>\n",
       "      <td>Greeting From Earth: ZGAC Arts Capsule For ET</td>\n",
       "      <td>Narrative Film</td>\n",
       "      <td>Film &amp; Video</td>\n",
       "      <td>USD</td>\n",
       "      <td>2017-11-01</td>\n",
       "      <td>30000.0</td>\n",
       "      <td>2017-09-02 04:43:00</td>\n",
       "      <td>2421.0</td>\n",
       "      <td>failed</td>\n",
       "      <td>15</td>\n",
       "      <td>US</td>\n",
       "      <td>100.0</td>\n",
       "      <td>2421.0</td>\n",
       "      <td>False</td>\n",
       "      <td>2017</td>\n",
       "      <td>2017-09-02</td>\n",
       "      <td>60 days</td>\n",
       "      <td>True</td>\n",
       "      <td>False</td>\n",
       "    </tr>\n",
       "    <tr>\n",
       "      <th>2</th>\n",
       "      <td>1000004038</td>\n",
       "      <td>Where is Hank?</td>\n",
       "      <td>Narrative Film</td>\n",
       "      <td>Film &amp; Video</td>\n",
       "      <td>USD</td>\n",
       "      <td>2013-02-26</td>\n",
       "      <td>45000.0</td>\n",
       "      <td>2013-01-12 00:20:00</td>\n",
       "      <td>220.0</td>\n",
       "      <td>failed</td>\n",
       "      <td>3</td>\n",
       "      <td>US</td>\n",
       "      <td>220.0</td>\n",
       "      <td>220.0</td>\n",
       "      <td>True</td>\n",
       "      <td>2013</td>\n",
       "      <td>2013-01-12</td>\n",
       "      <td>45 days</td>\n",
       "      <td>False</td>\n",
       "      <td>False</td>\n",
       "    </tr>\n",
       "    <tr>\n",
       "      <th>3</th>\n",
       "      <td>1000007540</td>\n",
       "      <td>ToshiCapital Rekordz Needs Help to Complete Album</td>\n",
       "      <td>Music</td>\n",
       "      <td>Music</td>\n",
       "      <td>USD</td>\n",
       "      <td>2012-04-16</td>\n",
       "      <td>5000.0</td>\n",
       "      <td>2012-03-17 03:24:00</td>\n",
       "      <td>1.0</td>\n",
       "      <td>failed</td>\n",
       "      <td>1</td>\n",
       "      <td>US</td>\n",
       "      <td>1.0</td>\n",
       "      <td>1.0</td>\n",
       "      <td>True</td>\n",
       "      <td>2012</td>\n",
       "      <td>2012-03-17</td>\n",
       "      <td>30 days</td>\n",
       "      <td>False</td>\n",
       "      <td>False</td>\n",
       "    </tr>\n",
       "    <tr>\n",
       "      <th>5</th>\n",
       "      <td>1000014025</td>\n",
       "      <td>Monarch Espresso Bar</td>\n",
       "      <td>Restaurants</td>\n",
       "      <td>Food</td>\n",
       "      <td>USD</td>\n",
       "      <td>2016-04-01</td>\n",
       "      <td>50000.0</td>\n",
       "      <td>2016-02-26 13:38:00</td>\n",
       "      <td>52375.0</td>\n",
       "      <td>successful</td>\n",
       "      <td>224</td>\n",
       "      <td>US</td>\n",
       "      <td>52375.0</td>\n",
       "      <td>52375.0</td>\n",
       "      <td>True</td>\n",
       "      <td>2016</td>\n",
       "      <td>2016-02-26</td>\n",
       "      <td>35 days</td>\n",
       "      <td>False</td>\n",
       "      <td>True</td>\n",
       "    </tr>\n",
       "  </tbody>\n",
       "</table>\n",
       "</div>"
      ],
      "text/plain": [
       "           ID                                               name  \\\n",
       "0  1000002330                    The Songs of Adelaide & Abullah   \n",
       "1  1000003930      Greeting From Earth: ZGAC Arts Capsule For ET   \n",
       "2  1000004038                                     Where is Hank?   \n",
       "3  1000007540  ToshiCapital Rekordz Needs Help to Complete Album   \n",
       "5  1000014025                               Monarch Espresso Bar   \n",
       "\n",
       "         category main_category currency   deadline     goal  \\\n",
       "0          Poetry    Publishing      GBP 2015-10-09   1000.0   \n",
       "1  Narrative Film  Film & Video      USD 2017-11-01  30000.0   \n",
       "2  Narrative Film  Film & Video      USD 2013-02-26  45000.0   \n",
       "3           Music         Music      USD 2012-04-16   5000.0   \n",
       "5     Restaurants          Food      USD 2016-04-01  50000.0   \n",
       "\n",
       "             launched  pledged       state  backers country  usd pledged  \\\n",
       "0 2015-08-11 12:12:00      0.0      failed        0      GB          0.0   \n",
       "1 2017-09-02 04:43:00   2421.0      failed       15      US        100.0   \n",
       "2 2013-01-12 00:20:00    220.0      failed        3      US        220.0   \n",
       "3 2012-03-17 03:24:00      1.0      failed        1      US          1.0   \n",
       "5 2016-02-26 13:38:00  52375.0  successful      224      US      52375.0   \n",
       "\n",
       "   usd_pledged_real realnotreal  Year launched_date  period  \\\n",
       "0               0.0        True  2015    2015-08-11 59 days   \n",
       "1            2421.0       False  2017    2017-09-02 60 days   \n",
       "2             220.0        True  2013    2013-01-12 45 days   \n",
       "3               1.0        True  2012    2012-03-17 30 days   \n",
       "5           52375.0        True  2016    2016-02-26 35 days   \n",
       "\n",
       "  real_less_then_pledged success  \n",
       "0                  False   False  \n",
       "1                   True   False  \n",
       "2                  False   False  \n",
       "3                  False   False  \n",
       "5                  False    True  "
      ]
     },
     "execution_count": 89,
     "metadata": {},
     "output_type": "execute_result"
    }
   ],
   "source": [
    "df_p.head()"
   ]
  },
  {
   "cell_type": "code",
   "execution_count": 54,
   "metadata": {
    "collapsed": false
   },
   "outputs": [
    {
     "data": {
      "text/plain": [
       "Film & Video    56527\n",
       "Music           45949\n",
       "Publishing      35445\n",
       "Games           28521\n",
       "Technology      27050\n",
       "Art             25641\n",
       "Design          25364\n",
       "Food            22054\n",
       "Fashion         19775\n",
       "Theater         10242\n",
       "Comics           9878\n",
       "Photography      9689\n",
       "Crafts           7818\n",
       "Journalism       4149\n",
       "Dance            3573\n",
       "Name: main_category, dtype: int64"
      ]
     },
     "execution_count": 54,
     "metadata": {},
     "output_type": "execute_result"
    }
   ],
   "source": [
    "df_p.main_category.value_counts()"
   ]
  },
  {
   "cell_type": "code",
   "execution_count": 55,
   "metadata": {
    "collapsed": true
   },
   "outputs": [],
   "source": [
    "df_p_film = df_p[df_p.main_category == 'Film & Video']"
   ]
  },
  {
   "cell_type": "code",
   "execution_count": 56,
   "metadata": {
    "collapsed": false
   },
   "outputs": [
    {
     "data": {
      "text/html": [
       "<div>\n",
       "<table border=\"1\" class=\"dataframe\">\n",
       "  <thead>\n",
       "    <tr style=\"text-align: right;\">\n",
       "      <th></th>\n",
       "      <th>ID</th>\n",
       "      <th>goal</th>\n",
       "      <th>pledged</th>\n",
       "      <th>backers</th>\n",
       "      <th>usd pledged</th>\n",
       "      <th>usd_pledged_real</th>\n",
       "      <th>Year</th>\n",
       "      <th>period</th>\n",
       "    </tr>\n",
       "  </thead>\n",
       "  <tbody>\n",
       "    <tr>\n",
       "      <th>count</th>\n",
       "      <td>5.652700e+04</td>\n",
       "      <td>5.652700e+04</td>\n",
       "      <td>5.652700e+04</td>\n",
       "      <td>56527.000000</td>\n",
       "      <td>5.650400e+04</td>\n",
       "      <td>5.652700e+04</td>\n",
       "      <td>56527.000000</td>\n",
       "      <td>56527</td>\n",
       "    </tr>\n",
       "    <tr>\n",
       "      <th>mean</th>\n",
       "      <td>1.073811e+09</td>\n",
       "      <td>7.818464e+04</td>\n",
       "      <td>6.928289e+03</td>\n",
       "      <td>72.554266</td>\n",
       "      <td>5.982361e+03</td>\n",
       "      <td>6.714662e+03</td>\n",
       "      <td>2013.499071</td>\n",
       "      <td>35 days 00:12:59.521290</td>\n",
       "    </tr>\n",
       "    <tr>\n",
       "      <th>std</th>\n",
       "      <td>6.201152e+08</td>\n",
       "      <td>1.696228e+06</td>\n",
       "      <td>4.486470e+04</td>\n",
       "      <td>573.754723</td>\n",
       "      <td>4.307640e+04</td>\n",
       "      <td>4.377600e+04</td>\n",
       "      <td>2.019435</td>\n",
       "      <td>14 days 07:08:17.206821</td>\n",
       "    </tr>\n",
       "    <tr>\n",
       "      <th>min</th>\n",
       "      <td>3.940900e+04</td>\n",
       "      <td>1.500000e-01</td>\n",
       "      <td>0.000000e+00</td>\n",
       "      <td>0.000000</td>\n",
       "      <td>0.000000e+00</td>\n",
       "      <td>0.000000e+00</td>\n",
       "      <td>2009.000000</td>\n",
       "      <td>1 days 00:00:00</td>\n",
       "    </tr>\n",
       "    <tr>\n",
       "      <th>25%</th>\n",
       "      <td>5.356423e+08</td>\n",
       "      <td>2.500000e+03</td>\n",
       "      <td>5.000000e+01</td>\n",
       "      <td>2.000000</td>\n",
       "      <td>3.000000e+01</td>\n",
       "      <td>5.100000e+01</td>\n",
       "      <td>2012.000000</td>\n",
       "      <td>30 days 00:00:00</td>\n",
       "    </tr>\n",
       "    <tr>\n",
       "      <th>50%</th>\n",
       "      <td>1.075973e+09</td>\n",
       "      <td>6.000000e+03</td>\n",
       "      <td>9.550000e+02</td>\n",
       "      <td>15.000000</td>\n",
       "      <td>6.800000e+02</td>\n",
       "      <td>9.636774e+02</td>\n",
       "      <td>2013.000000</td>\n",
       "      <td>30 days 00:00:00</td>\n",
       "    </tr>\n",
       "    <tr>\n",
       "      <th>75%</th>\n",
       "      <td>1.611306e+09</td>\n",
       "      <td>2.000000e+04</td>\n",
       "      <td>5.140000e+03</td>\n",
       "      <td>55.000000</td>\n",
       "      <td>4.262003e+03</td>\n",
       "      <td>5.143945e+03</td>\n",
       "      <td>2015.000000</td>\n",
       "      <td>40 days 00:00:00</td>\n",
       "    </tr>\n",
       "    <tr>\n",
       "      <th>max</th>\n",
       "      <td>2.147422e+09</td>\n",
       "      <td>1.000000e+08</td>\n",
       "      <td>5.764229e+06</td>\n",
       "      <td>91585.000000</td>\n",
       "      <td>5.764229e+06</td>\n",
       "      <td>5.764229e+06</td>\n",
       "      <td>2017.000000</td>\n",
       "      <td>92 days 00:00:00</td>\n",
       "    </tr>\n",
       "  </tbody>\n",
       "</table>\n",
       "</div>"
      ],
      "text/plain": [
       "                 ID          goal       pledged       backers   usd pledged  \\\n",
       "count  5.652700e+04  5.652700e+04  5.652700e+04  56527.000000  5.650400e+04   \n",
       "mean   1.073811e+09  7.818464e+04  6.928289e+03     72.554266  5.982361e+03   \n",
       "std    6.201152e+08  1.696228e+06  4.486470e+04    573.754723  4.307640e+04   \n",
       "min    3.940900e+04  1.500000e-01  0.000000e+00      0.000000  0.000000e+00   \n",
       "25%    5.356423e+08  2.500000e+03  5.000000e+01      2.000000  3.000000e+01   \n",
       "50%    1.075973e+09  6.000000e+03  9.550000e+02     15.000000  6.800000e+02   \n",
       "75%    1.611306e+09  2.000000e+04  5.140000e+03     55.000000  4.262003e+03   \n",
       "max    2.147422e+09  1.000000e+08  5.764229e+06  91585.000000  5.764229e+06   \n",
       "\n",
       "       usd_pledged_real          Year                   period  \n",
       "count      5.652700e+04  56527.000000                    56527  \n",
       "mean       6.714662e+03   2013.499071  35 days 00:12:59.521290  \n",
       "std        4.377600e+04      2.019435  14 days 07:08:17.206821  \n",
       "min        0.000000e+00   2009.000000          1 days 00:00:00  \n",
       "25%        5.100000e+01   2012.000000         30 days 00:00:00  \n",
       "50%        9.636774e+02   2013.000000         30 days 00:00:00  \n",
       "75%        5.143945e+03   2015.000000         40 days 00:00:00  \n",
       "max        5.764229e+06   2017.000000         92 days 00:00:00  "
      ]
     },
     "execution_count": 56,
     "metadata": {},
     "output_type": "execute_result"
    }
   ],
   "source": [
    "df_p_film.describe()"
   ]
  },
  {
   "cell_type": "code",
   "execution_count": 57,
   "metadata": {
    "collapsed": false
   },
   "outputs": [
    {
     "data": {
      "text/html": [
       "<div>\n",
       "<table border=\"1\" class=\"dataframe\">\n",
       "  <thead>\n",
       "    <tr style=\"text-align: right;\">\n",
       "      <th></th>\n",
       "      <th>ID</th>\n",
       "      <th>name</th>\n",
       "      <th>category</th>\n",
       "      <th>main_category</th>\n",
       "      <th>currency</th>\n",
       "      <th>deadline</th>\n",
       "      <th>goal</th>\n",
       "      <th>launched</th>\n",
       "      <th>pledged</th>\n",
       "      <th>state</th>\n",
       "      <th>backers</th>\n",
       "      <th>country</th>\n",
       "      <th>usd pledged</th>\n",
       "      <th>usd_pledged_real</th>\n",
       "      <th>realnotreal</th>\n",
       "      <th>Year</th>\n",
       "      <th>launched_date</th>\n",
       "      <th>period</th>\n",
       "      <th>real_less_then_pledged</th>\n",
       "      <th>success</th>\n",
       "    </tr>\n",
       "  </thead>\n",
       "  <tbody>\n",
       "    <tr>\n",
       "      <th>1</th>\n",
       "      <td>1000003930</td>\n",
       "      <td>Greeting From Earth: ZGAC Arts Capsule For ET</td>\n",
       "      <td>Narrative Film</td>\n",
       "      <td>Film &amp; Video</td>\n",
       "      <td>USD</td>\n",
       "      <td>2017-11-01</td>\n",
       "      <td>30000.0</td>\n",
       "      <td>2017-09-02 04:43:00</td>\n",
       "      <td>2421.00</td>\n",
       "      <td>failed</td>\n",
       "      <td>15</td>\n",
       "      <td>US</td>\n",
       "      <td>100.00000</td>\n",
       "      <td>2421.00000</td>\n",
       "      <td>False</td>\n",
       "      <td>2017</td>\n",
       "      <td>2017-09-02</td>\n",
       "      <td>60 days</td>\n",
       "      <td>True</td>\n",
       "      <td>False</td>\n",
       "    </tr>\n",
       "    <tr>\n",
       "      <th>2</th>\n",
       "      <td>1000004038</td>\n",
       "      <td>Where is Hank?</td>\n",
       "      <td>Narrative Film</td>\n",
       "      <td>Film &amp; Video</td>\n",
       "      <td>USD</td>\n",
       "      <td>2013-02-26</td>\n",
       "      <td>45000.0</td>\n",
       "      <td>2013-01-12 00:20:00</td>\n",
       "      <td>220.00</td>\n",
       "      <td>failed</td>\n",
       "      <td>3</td>\n",
       "      <td>US</td>\n",
       "      <td>220.00000</td>\n",
       "      <td>220.00000</td>\n",
       "      <td>True</td>\n",
       "      <td>2013</td>\n",
       "      <td>2013-01-12</td>\n",
       "      <td>45 days</td>\n",
       "      <td>False</td>\n",
       "      <td>False</td>\n",
       "    </tr>\n",
       "    <tr>\n",
       "      <th>27</th>\n",
       "      <td>1000104688</td>\n",
       "      <td>Permaculture Skills</td>\n",
       "      <td>Webseries</td>\n",
       "      <td>Film &amp; Video</td>\n",
       "      <td>CAD</td>\n",
       "      <td>2014-12-14</td>\n",
       "      <td>17757.0</td>\n",
       "      <td>2014-11-14 18:02:00</td>\n",
       "      <td>48905.00</td>\n",
       "      <td>successful</td>\n",
       "      <td>571</td>\n",
       "      <td>CA</td>\n",
       "      <td>43203.25114</td>\n",
       "      <td>42174.02553</td>\n",
       "      <td>False</td>\n",
       "      <td>2014</td>\n",
       "      <td>2014-11-14</td>\n",
       "      <td>30 days</td>\n",
       "      <td>False</td>\n",
       "      <td>True</td>\n",
       "    </tr>\n",
       "    <tr>\n",
       "      <th>29</th>\n",
       "      <td>100011318</td>\n",
       "      <td>My Moon - Animated Short Film</td>\n",
       "      <td>Animation</td>\n",
       "      <td>Film &amp; Video</td>\n",
       "      <td>USD</td>\n",
       "      <td>2017-05-03</td>\n",
       "      <td>50000.0</td>\n",
       "      <td>2017-04-03 17:11:00</td>\n",
       "      <td>57577.31</td>\n",
       "      <td>successful</td>\n",
       "      <td>840</td>\n",
       "      <td>US</td>\n",
       "      <td>10120.00000</td>\n",
       "      <td>57577.31000</td>\n",
       "      <td>False</td>\n",
       "      <td>2017</td>\n",
       "      <td>2017-04-03</td>\n",
       "      <td>30 days</td>\n",
       "      <td>True</td>\n",
       "      <td>True</td>\n",
       "    </tr>\n",
       "    <tr>\n",
       "      <th>35</th>\n",
       "      <td>1000129669</td>\n",
       "      <td>Squatch Watchers</td>\n",
       "      <td>Webseries</td>\n",
       "      <td>Film &amp; Video</td>\n",
       "      <td>USD</td>\n",
       "      <td>2013-08-23</td>\n",
       "      <td>10000.0</td>\n",
       "      <td>2013-07-24 21:40:00</td>\n",
       "      <td>1373.37</td>\n",
       "      <td>failed</td>\n",
       "      <td>54</td>\n",
       "      <td>US</td>\n",
       "      <td>1373.37000</td>\n",
       "      <td>1373.37000</td>\n",
       "      <td>True</td>\n",
       "      <td>2013</td>\n",
       "      <td>2013-07-24</td>\n",
       "      <td>30 days</td>\n",
       "      <td>False</td>\n",
       "      <td>False</td>\n",
       "    </tr>\n",
       "  </tbody>\n",
       "</table>\n",
       "</div>"
      ],
      "text/plain": [
       "            ID                                           name        category  \\\n",
       "1   1000003930  Greeting From Earth: ZGAC Arts Capsule For ET  Narrative Film   \n",
       "2   1000004038                                 Where is Hank?  Narrative Film   \n",
       "27  1000104688                            Permaculture Skills       Webseries   \n",
       "29   100011318                  My Moon - Animated Short Film       Animation   \n",
       "35  1000129669                               Squatch Watchers       Webseries   \n",
       "\n",
       "   main_category currency   deadline     goal            launched   pledged  \\\n",
       "1   Film & Video      USD 2017-11-01  30000.0 2017-09-02 04:43:00   2421.00   \n",
       "2   Film & Video      USD 2013-02-26  45000.0 2013-01-12 00:20:00    220.00   \n",
       "27  Film & Video      CAD 2014-12-14  17757.0 2014-11-14 18:02:00  48905.00   \n",
       "29  Film & Video      USD 2017-05-03  50000.0 2017-04-03 17:11:00  57577.31   \n",
       "35  Film & Video      USD 2013-08-23  10000.0 2013-07-24 21:40:00   1373.37   \n",
       "\n",
       "         state  backers country  usd pledged  usd_pledged_real realnotreal  \\\n",
       "1       failed       15      US    100.00000        2421.00000       False   \n",
       "2       failed        3      US    220.00000         220.00000        True   \n",
       "27  successful      571      CA  43203.25114       42174.02553       False   \n",
       "29  successful      840      US  10120.00000       57577.31000       False   \n",
       "35      failed       54      US   1373.37000        1373.37000        True   \n",
       "\n",
       "    Year launched_date  period real_less_then_pledged success  \n",
       "1   2017    2017-09-02 60 days                   True   False  \n",
       "2   2013    2013-01-12 45 days                  False   False  \n",
       "27  2014    2014-11-14 30 days                  False    True  \n",
       "29  2017    2017-04-03 30 days                   True    True  \n",
       "35  2013    2013-07-24 30 days                  False   False  "
      ]
     },
     "execution_count": 57,
     "metadata": {},
     "output_type": "execute_result"
    }
   ],
   "source": [
    "df_p_film.head()"
   ]
  },
  {
   "cell_type": "code",
   "execution_count": 90,
   "metadata": {
    "collapsed": false
   },
   "outputs": [
    {
     "data": {
      "text/html": [
       "<div>\n",
       "<table border=\"1\" class=\"dataframe\">\n",
       "  <thead>\n",
       "    <tr style=\"text-align: right;\">\n",
       "      <th></th>\n",
       "      <th>ID</th>\n",
       "      <th>name</th>\n",
       "      <th>category</th>\n",
       "      <th>main_category</th>\n",
       "      <th>currency</th>\n",
       "      <th>deadline</th>\n",
       "      <th>goal</th>\n",
       "      <th>launched</th>\n",
       "      <th>pledged</th>\n",
       "      <th>state</th>\n",
       "      <th>backers</th>\n",
       "      <th>country</th>\n",
       "      <th>usd pledged</th>\n",
       "      <th>usd_pledged_real</th>\n",
       "      <th>realnotreal</th>\n",
       "      <th>launched_date</th>\n",
       "      <th>period</th>\n",
       "      <th>real_less_then_pledged</th>\n",
       "      <th>success</th>\n",
       "    </tr>\n",
       "  </thead>\n",
       "  <tbody>\n",
       "    <tr>\n",
       "      <th>1</th>\n",
       "      <td>1000003930</td>\n",
       "      <td>Greeting From Earth: ZGAC Arts Capsule For ET</td>\n",
       "      <td>Narrative Film</td>\n",
       "      <td>Film &amp; Video</td>\n",
       "      <td>USD</td>\n",
       "      <td>2017-11-01</td>\n",
       "      <td>30000.0</td>\n",
       "      <td>2017-09-02 04:43:00</td>\n",
       "      <td>2421.00</td>\n",
       "      <td>failed</td>\n",
       "      <td>15</td>\n",
       "      <td>US</td>\n",
       "      <td>100.00000</td>\n",
       "      <td>2421.00000</td>\n",
       "      <td>False</td>\n",
       "      <td>2017-09-02</td>\n",
       "      <td>60</td>\n",
       "      <td>True</td>\n",
       "      <td>False</td>\n",
       "    </tr>\n",
       "    <tr>\n",
       "      <th>2</th>\n",
       "      <td>1000004038</td>\n",
       "      <td>Where is Hank?</td>\n",
       "      <td>Narrative Film</td>\n",
       "      <td>Film &amp; Video</td>\n",
       "      <td>USD</td>\n",
       "      <td>2013-02-26</td>\n",
       "      <td>45000.0</td>\n",
       "      <td>2013-01-12 00:20:00</td>\n",
       "      <td>220.00</td>\n",
       "      <td>failed</td>\n",
       "      <td>3</td>\n",
       "      <td>US</td>\n",
       "      <td>220.00000</td>\n",
       "      <td>220.00000</td>\n",
       "      <td>True</td>\n",
       "      <td>2013-01-12</td>\n",
       "      <td>45</td>\n",
       "      <td>False</td>\n",
       "      <td>False</td>\n",
       "    </tr>\n",
       "    <tr>\n",
       "      <th>27</th>\n",
       "      <td>1000104688</td>\n",
       "      <td>Permaculture Skills</td>\n",
       "      <td>Webseries</td>\n",
       "      <td>Film &amp; Video</td>\n",
       "      <td>CAD</td>\n",
       "      <td>2014-12-14</td>\n",
       "      <td>17757.0</td>\n",
       "      <td>2014-11-14 18:02:00</td>\n",
       "      <td>48905.00</td>\n",
       "      <td>successful</td>\n",
       "      <td>571</td>\n",
       "      <td>CA</td>\n",
       "      <td>43203.25114</td>\n",
       "      <td>42174.02553</td>\n",
       "      <td>False</td>\n",
       "      <td>2014-11-14</td>\n",
       "      <td>30</td>\n",
       "      <td>False</td>\n",
       "      <td>True</td>\n",
       "    </tr>\n",
       "    <tr>\n",
       "      <th>29</th>\n",
       "      <td>100011318</td>\n",
       "      <td>My Moon - Animated Short Film</td>\n",
       "      <td>Animation</td>\n",
       "      <td>Film &amp; Video</td>\n",
       "      <td>USD</td>\n",
       "      <td>2017-05-03</td>\n",
       "      <td>50000.0</td>\n",
       "      <td>2017-04-03 17:11:00</td>\n",
       "      <td>57577.31</td>\n",
       "      <td>successful</td>\n",
       "      <td>840</td>\n",
       "      <td>US</td>\n",
       "      <td>10120.00000</td>\n",
       "      <td>57577.31000</td>\n",
       "      <td>False</td>\n",
       "      <td>2017-04-03</td>\n",
       "      <td>30</td>\n",
       "      <td>True</td>\n",
       "      <td>True</td>\n",
       "    </tr>\n",
       "    <tr>\n",
       "      <th>35</th>\n",
       "      <td>1000129669</td>\n",
       "      <td>Squatch Watchers</td>\n",
       "      <td>Webseries</td>\n",
       "      <td>Film &amp; Video</td>\n",
       "      <td>USD</td>\n",
       "      <td>2013-08-23</td>\n",
       "      <td>10000.0</td>\n",
       "      <td>2013-07-24 21:40:00</td>\n",
       "      <td>1373.37</td>\n",
       "      <td>failed</td>\n",
       "      <td>54</td>\n",
       "      <td>US</td>\n",
       "      <td>1373.37000</td>\n",
       "      <td>1373.37000</td>\n",
       "      <td>True</td>\n",
       "      <td>2013-07-24</td>\n",
       "      <td>30</td>\n",
       "      <td>False</td>\n",
       "      <td>False</td>\n",
       "    </tr>\n",
       "  </tbody>\n",
       "</table>\n",
       "</div>"
      ],
      "text/plain": [
       "            ID                                           name        category  \\\n",
       "1   1000003930  Greeting From Earth: ZGAC Arts Capsule For ET  Narrative Film   \n",
       "2   1000004038                                 Where is Hank?  Narrative Film   \n",
       "27  1000104688                            Permaculture Skills       Webseries   \n",
       "29   100011318                  My Moon - Animated Short Film       Animation   \n",
       "35  1000129669                               Squatch Watchers       Webseries   \n",
       "\n",
       "   main_category currency   deadline     goal            launched   pledged  \\\n",
       "1   Film & Video      USD 2017-11-01  30000.0 2017-09-02 04:43:00   2421.00   \n",
       "2   Film & Video      USD 2013-02-26  45000.0 2013-01-12 00:20:00    220.00   \n",
       "27  Film & Video      CAD 2014-12-14  17757.0 2014-11-14 18:02:00  48905.00   \n",
       "29  Film & Video      USD 2017-05-03  50000.0 2017-04-03 17:11:00  57577.31   \n",
       "35  Film & Video      USD 2013-08-23  10000.0 2013-07-24 21:40:00   1373.37   \n",
       "\n",
       "         state  backers country  usd pledged  usd_pledged_real realnotreal  \\\n",
       "1       failed       15      US    100.00000        2421.00000       False   \n",
       "2       failed        3      US    220.00000         220.00000        True   \n",
       "27  successful      571      CA  43203.25114       42174.02553       False   \n",
       "29  successful      840      US  10120.00000       57577.31000       False   \n",
       "35      failed       54      US   1373.37000        1373.37000        True   \n",
       "\n",
       "   launched_date  period real_less_then_pledged success  \n",
       "1     2017-09-02      60                   True   False  \n",
       "2     2013-01-12      45                  False   False  \n",
       "27    2014-11-14      30                  False    True  \n",
       "29    2017-04-03      30                   True    True  \n",
       "35    2013-07-24      30                  False   False  "
      ]
     },
     "execution_count": 90,
     "metadata": {},
     "output_type": "execute_result"
    }
   ],
   "source": [
    "df_p_film.drop('Year', axis=1).head()"
   ]
  },
  {
   "cell_type": "code",
   "execution_count": 59,
   "metadata": {
    "collapsed": false
   },
   "outputs": [
    {
     "data": {
      "text/plain": [
       "ID                                  int64\n",
       "name                               object\n",
       "category                           object\n",
       "main_category                      object\n",
       "currency                           object\n",
       "deadline                   datetime64[ns]\n",
       "goal                              float64\n",
       "launched                   datetime64[ns]\n",
       "pledged                           float64\n",
       "state                              object\n",
       "backers                             int64\n",
       "country                            object\n",
       "usd pledged                       float64\n",
       "usd_pledged_real                  float64\n",
       "realnotreal                          bool\n",
       "Year                                int32\n",
       "launched_date              datetime64[ns]\n",
       "period                    timedelta64[ns]\n",
       "real_less_then_pledged               bool\n",
       "success                              bool\n",
       "dtype: object"
      ]
     },
     "execution_count": 59,
     "metadata": {},
     "output_type": "execute_result"
    }
   ],
   "source": [
    "(df_p_film.dtypes)"
   ]
  },
  {
   "cell_type": "code",
   "execution_count": 70,
   "metadata": {
    "collapsed": false
   },
   "outputs": [
    {
     "name": "stderr",
     "output_type": "stream",
     "text": [
      "/Users/sagar/anaconda/lib/python3.6/site-packages/ipykernel/__main__.py:1: SettingWithCopyWarning:\n",
      "\n",
      "\n",
      "A value is trying to be set on a copy of a slice from a DataFrame.\n",
      "Try using .loc[row_indexer,col_indexer] = value instead\n",
      "\n",
      "See the caveats in the documentation: http://pandas.pydata.org/pandas-docs/stable/indexing.html#indexing-view-versus-copy\n",
      "\n",
      "/Users/sagar/anaconda/lib/python3.6/site-packages/ipykernel/__main__.py:2: SettingWithCopyWarning:\n",
      "\n",
      "\n",
      "A value is trying to be set on a copy of a slice from a DataFrame.\n",
      "Try using .loc[row_indexer,col_indexer] = value instead\n",
      "\n",
      "See the caveats in the documentation: http://pandas.pydata.org/pandas-docs/stable/indexing.html#indexing-view-versus-copy\n",
      "\n"
     ]
    }
   ],
   "source": [
    "df_p_film['period']=df_p_film['period'].astype('timedelta64[D]')\n",
    "df_p_film['period']=pd.to_numeric(df_p_film['period'])\n"
   ]
  },
  {
   "cell_type": "code",
   "execution_count": 61,
   "metadata": {
    "collapsed": false
   },
   "outputs": [
    {
     "data": {
      "text/plain": [
       "(56527, 20)"
      ]
     },
     "execution_count": 61,
     "metadata": {},
     "output_type": "execute_result"
    }
   ],
   "source": [
    "df_p_film.shape"
   ]
  },
  {
   "cell_type": "code",
   "execution_count": 72,
   "metadata": {
    "collapsed": false
   },
   "outputs": [],
   "source": [
    "df_p_film = df_p_film.dropna( how='any')"
   ]
  },
  {
   "cell_type": "code",
   "execution_count": 73,
   "metadata": {
    "collapsed": true
   },
   "outputs": [],
   "source": [
    "feature_matrix =['goal','pledged','Year','period']"
   ]
  },
  {
   "cell_type": "code",
   "execution_count": 74,
   "metadata": {
    "collapsed": false
   },
   "outputs": [],
   "source": [
    "feature_matrix = df_p_film[feature_matrix]\n",
    "X = feature_matrix\n",
    "y=df_p_film.success"
   ]
  },
  {
   "cell_type": "code",
   "execution_count": 75,
   "metadata": {
    "collapsed": false
   },
   "outputs": [],
   "source": [
    "from sklearn.model_selection import train_test_split\n",
    "X_train, X_test, y_train, y_test = train_test_split(X, y, test_size=0.3,\n",
    "                                                   random_state=42)"
   ]
  },
  {
   "cell_type": "code",
   "execution_count": 76,
   "metadata": {
    "collapsed": false
   },
   "outputs": [
    {
     "data": {
      "text/plain": [
       "276914       1 days\n",
       "34578        1 days\n",
       "218732       1 days\n",
       "316239       1 days\n",
       "143432       1 days\n",
       "10449        1 days\n",
       "65731        1 days\n",
       "156411       1 days\n",
       "111819       1 days\n",
       "205508       1 days\n",
       "244237       1 days\n",
       "293862       1 days\n",
       "336531       1 days\n",
       "321131       1 days\n",
       "160534       1 days\n",
       "103483       1 days\n",
       "335318       1 days\n",
       "44783        1 days\n",
       "140073       1 days\n",
       "363529       1 days\n",
       "129319       1 days\n",
       "57993        1 days\n",
       "370904       1 days\n",
       "372363       1 days\n",
       "899          1 days\n",
       "243288       1 days\n",
       "190908       1 days\n",
       "156430       1 days\n",
       "89180        1 days\n",
       "257510       1 days\n",
       "            ...    \n",
       "135467      91 days\n",
       "238380      92 days\n",
       "226191      92 days\n",
       "275427      92 days\n",
       "305126      92 days\n",
       "243386      92 days\n",
       "98785       92 days\n",
       "150277      92 days\n",
       "38476       92 days\n",
       "200310      92 days\n",
       "22618       92 days\n",
       "173919      92 days\n",
       "67868       92 days\n",
       "170950      92 days\n",
       "226361      92 days\n",
       "61014       92 days\n",
       "153557      92 days\n",
       "135100      92 days\n",
       "85716       92 days\n",
       "74196       92 days\n",
       "206611      92 days\n",
       "151836      92 days\n",
       "88090       92 days\n",
       "273779   14709 days\n",
       "247913   14733 days\n",
       "75397    14750 days\n",
       "94579    14761 days\n",
       "48147    14835 days\n",
       "2842     14867 days\n",
       "319002   16739 days\n",
       "Name: period, dtype: timedelta64[ns]"
      ]
     },
     "execution_count": 76,
     "metadata": {},
     "output_type": "execute_result"
    }
   ],
   "source": [
    "df['period'].sort_values()"
   ]
  },
  {
   "cell_type": "code",
   "execution_count": 77,
   "metadata": {
    "collapsed": true
   },
   "outputs": [],
   "source": [
    "from sklearn.base import BaseEstimator"
   ]
  },
  {
   "cell_type": "code",
   "execution_count": 78,
   "metadata": {
    "collapsed": false
   },
   "outputs": [],
   "source": [
    "from sklearn.tree import DecisionTreeClassifier\n",
    "\n",
    "from sklearn.metrics import accuracy_score\n"
   ]
  },
  {
   "cell_type": "code",
   "execution_count": 79,
   "metadata": {
    "collapsed": false
   },
   "outputs": [
    {
     "name": "stdout",
     "output_type": "stream",
     "text": [
      "0.8215549787635678\n"
     ]
    }
   ],
   "source": [
    "my_decisiontree = DecisionTreeClassifier( random_state = 100,\n",
    "                max_depth=2)\n",
    "my_decisiontree.fit(X_train, y_train)\n",
    "y_predict = my_decisiontree.predict(X_test)\n",
    "score = accuracy_score(y_test, y_predict)\n",
    "print(score)"
   ]
  },
  {
   "cell_type": "code",
   "execution_count": 80,
   "metadata": {
    "collapsed": false
   },
   "outputs": [],
   "source": [
    "feature_names = list(feature_matrix)"
   ]
  },
  {
   "cell_type": "code",
   "execution_count": 81,
   "metadata": {
    "collapsed": false
   },
   "outputs": [
    {
     "data": {
      "image/svg+xml": [
       "<?xml version=\"1.0\" encoding=\"UTF-8\" standalone=\"no\"?>\n",
       "<!DOCTYPE svg PUBLIC \"-//W3C//DTD SVG 1.1//EN\"\n",
       " \"http://www.w3.org/Graphics/SVG/1.1/DTD/svg11.dtd\">\n",
       "<!-- Generated by graphviz version 2.40.1 (20161225.0304)\n",
       " -->\n",
       "<!-- Title: Tree Pages: 1 -->\n",
       "<svg width=\"595pt\" height=\"289pt\"\n",
       " viewBox=\"0.00 0.00 594.54 288.80\" xmlns=\"http://www.w3.org/2000/svg\" xmlns:xlink=\"http://www.w3.org/1999/xlink\">\n",
       "<g id=\"graph0\" class=\"graph\" transform=\"scale(1 1) rotate(0) translate(4 284.8)\">\n",
       "<title>Tree</title>\n",
       "<polygon fill=\"#ffffff\" stroke=\"transparent\" points=\"-4,4 -4,-284.8 590.5356,-284.8 590.5356,4 -4,4\"/>\n",
       "<!-- 0 -->\n",
       "<g id=\"node1\" class=\"node\">\n",
       "<title>0</title>\n",
       "<polygon fill=\"none\" stroke=\"#000000\" points=\"361.3041,-280.9003 214.2315,-280.9003 214.2315,-205.4997 361.3041,-205.4997 361.3041,-280.9003\"/>\n",
       "<text text-anchor=\"middle\" x=\"287.7678\" y=\"-264.2\" font-family=\"Times,serif\" font-size=\"14.00\" fill=\"#000000\">pledged &lt;= 999.5</text>\n",
       "<text text-anchor=\"middle\" x=\"287.7678\" y=\"-247.4\" font-family=\"Times,serif\" font-size=\"14.00\" fill=\"#000000\">gini = 0.4864</text>\n",
       "<text text-anchor=\"middle\" x=\"287.7678\" y=\"-230.6\" font-family=\"Times,serif\" font-size=\"14.00\" fill=\"#000000\">samples = 39552</text>\n",
       "<text text-anchor=\"middle\" x=\"287.7678\" y=\"-213.8\" font-family=\"Times,serif\" font-size=\"14.00\" fill=\"#000000\">value = [23041, 16511]</text>\n",
       "</g>\n",
       "<!-- 1 -->\n",
       "<g id=\"node2\" class=\"node\">\n",
       "<title>1</title>\n",
       "<polygon fill=\"none\" stroke=\"#000000\" points=\"278.8042,-169.7003 138.7314,-169.7003 138.7314,-94.2997 278.8042,-94.2997 278.8042,-169.7003\"/>\n",
       "<text text-anchor=\"middle\" x=\"208.7678\" y=\"-153\" font-family=\"Times,serif\" font-size=\"14.00\" fill=\"#000000\">goal &lt;= 926.0</text>\n",
       "<text text-anchor=\"middle\" x=\"208.7678\" y=\"-136.2\" font-family=\"Times,serif\" font-size=\"14.00\" fill=\"#000000\">gini = 0.1758</text>\n",
       "<text text-anchor=\"middle\" x=\"208.7678\" y=\"-119.4\" font-family=\"Times,serif\" font-size=\"14.00\" fill=\"#000000\">samples = 19948</text>\n",
       "<text text-anchor=\"middle\" x=\"208.7678\" y=\"-102.6\" font-family=\"Times,serif\" font-size=\"14.00\" fill=\"#000000\">value = [18005, 1943]</text>\n",
       "</g>\n",
       "<!-- 0&#45;&gt;1 -->\n",
       "<g id=\"edge1\" class=\"edge\">\n",
       "<title>0&#45;&gt;1</title>\n",
       "<path fill=\"none\" stroke=\"#000000\" d=\"M261.022,-205.5528C254.7161,-196.6765 247.9243,-187.1165 241.3914,-177.9209\"/>\n",
       "<polygon fill=\"#000000\" stroke=\"#000000\" points=\"244.1309,-175.7336 235.4861,-169.6085 238.4244,-179.7877 244.1309,-175.7336\"/>\n",
       "<text text-anchor=\"middle\" x=\"231.313\" y=\"-190.0577\" font-family=\"Times,serif\" font-size=\"14.00\" fill=\"#000000\">True</text>\n",
       "</g>\n",
       "<!-- 4 -->\n",
       "<g id=\"node5\" class=\"node\">\n",
       "<title>4</title>\n",
       "<polygon fill=\"none\" stroke=\"#000000\" points=\"437.8042,-169.7003 297.7314,-169.7003 297.7314,-94.2997 437.8042,-94.2997 437.8042,-169.7003\"/>\n",
       "<text text-anchor=\"middle\" x=\"367.7678\" y=\"-153\" font-family=\"Times,serif\" font-size=\"14.00\" fill=\"#000000\">goal &lt;= 12447.0</text>\n",
       "<text text-anchor=\"middle\" x=\"367.7678\" y=\"-136.2\" font-family=\"Times,serif\" font-size=\"14.00\" fill=\"#000000\">gini = 0.3818</text>\n",
       "<text text-anchor=\"middle\" x=\"367.7678\" y=\"-119.4\" font-family=\"Times,serif\" font-size=\"14.00\" fill=\"#000000\">samples = 19604</text>\n",
       "<text text-anchor=\"middle\" x=\"367.7678\" y=\"-102.6\" font-family=\"Times,serif\" font-size=\"14.00\" fill=\"#000000\">value = [5036, 14568]</text>\n",
       "</g>\n",
       "<!-- 0&#45;&gt;4 -->\n",
       "<g id=\"edge4\" class=\"edge\">\n",
       "<title>0&#45;&gt;4</title>\n",
       "<path fill=\"none\" stroke=\"#000000\" d=\"M314.8522,-205.5528C321.2379,-196.6765 328.1157,-187.1165 334.7312,-177.9209\"/>\n",
       "<polygon fill=\"#000000\" stroke=\"#000000\" points=\"337.7125,-179.7701 340.7113,-169.6085 332.0302,-175.6821 337.7125,-179.7701\"/>\n",
       "<text text-anchor=\"middle\" x=\"344.7376\" y=\"-190.0821\" font-family=\"Times,serif\" font-size=\"14.00\" fill=\"#000000\">False</text>\n",
       "</g>\n",
       "<!-- 2 -->\n",
       "<g id=\"node3\" class=\"node\">\n",
       "<title>2</title>\n",
       "<polygon fill=\"none\" stroke=\"#000000\" points=\"133.3042,-58.6014 .2314,-58.6014 .2314,.2014 133.3042,.2014 133.3042,-58.6014\"/>\n",
       "<text text-anchor=\"middle\" x=\"66.7678\" y=\"-41.8\" font-family=\"Times,serif\" font-size=\"14.00\" fill=\"#000000\">gini = 0.4993</text>\n",
       "<text text-anchor=\"middle\" x=\"66.7678\" y=\"-25\" font-family=\"Times,serif\" font-size=\"14.00\" fill=\"#000000\">samples = 3739</text>\n",
       "<text text-anchor=\"middle\" x=\"66.7678\" y=\"-8.2\" font-family=\"Times,serif\" font-size=\"14.00\" fill=\"#000000\">value = [1800, 1939]</text>\n",
       "</g>\n",
       "<!-- 1&#45;&gt;2 -->\n",
       "<g id=\"edge2\" class=\"edge\">\n",
       "<title>1&#45;&gt;2</title>\n",
       "<path fill=\"none\" stroke=\"#000000\" d=\"M156.6986,-94.3048C143.1954,-84.5293 128.7068,-74.0403 115.3884,-64.3986\"/>\n",
       "<polygon fill=\"#000000\" stroke=\"#000000\" points=\"117.4189,-61.5477 107.2663,-58.5186 113.314,-67.2178 117.4189,-61.5477\"/>\n",
       "</g>\n",
       "<!-- 3 -->\n",
       "<g id=\"node4\" class=\"node\">\n",
       "<title>3</title>\n",
       "<polygon fill=\"none\" stroke=\"#000000\" points=\"271.3043,-58.6014 152.2313,-58.6014 152.2313,.2014 271.3043,.2014 271.3043,-58.6014\"/>\n",
       "<text text-anchor=\"middle\" x=\"211.7678\" y=\"-41.8\" font-family=\"Times,serif\" font-size=\"14.00\" fill=\"#000000\">gini = 0.0005</text>\n",
       "<text text-anchor=\"middle\" x=\"211.7678\" y=\"-25\" font-family=\"Times,serif\" font-size=\"14.00\" fill=\"#000000\">samples = 16209</text>\n",
       "<text text-anchor=\"middle\" x=\"211.7678\" y=\"-8.2\" font-family=\"Times,serif\" font-size=\"14.00\" fill=\"#000000\">value = [16205, 4]</text>\n",
       "</g>\n",
       "<!-- 1&#45;&gt;3 -->\n",
       "<g id=\"edge3\" class=\"edge\">\n",
       "<title>1&#45;&gt;3</title>\n",
       "<path fill=\"none\" stroke=\"#000000\" d=\"M209.8679,-94.3048C210.1128,-85.9126 210.373,-76.9946 210.6198,-68.5382\"/>\n",
       "<polygon fill=\"#000000\" stroke=\"#000000\" points=\"214.1189,-68.6165 210.9122,-58.5186 207.1219,-68.4122 214.1189,-68.6165\"/>\n",
       "</g>\n",
       "<!-- 5 -->\n",
       "<g id=\"node6\" class=\"node\">\n",
       "<title>5</title>\n",
       "<polygon fill=\"none\" stroke=\"#000000\" points=\"434.8042,-58.6014 294.7314,-58.6014 294.7314,.2014 434.8042,.2014 434.8042,-58.6014\"/>\n",
       "<text text-anchor=\"middle\" x=\"364.7678\" y=\"-41.8\" font-family=\"Times,serif\" font-size=\"14.00\" fill=\"#000000\">gini = 0.2215</text>\n",
       "<text text-anchor=\"middle\" x=\"364.7678\" y=\"-25\" font-family=\"Times,serif\" font-size=\"14.00\" fill=\"#000000\">samples = 12564</text>\n",
       "<text text-anchor=\"middle\" x=\"364.7678\" y=\"-8.2\" font-family=\"Times,serif\" font-size=\"14.00\" fill=\"#000000\">value = [1594, 10970]</text>\n",
       "</g>\n",
       "<!-- 4&#45;&gt;5 -->\n",
       "<g id=\"edge5\" class=\"edge\">\n",
       "<title>4&#45;&gt;5</title>\n",
       "<path fill=\"none\" stroke=\"#000000\" d=\"M366.6677,-94.3048C366.4228,-85.9126 366.1626,-76.9946 365.9158,-68.5382\"/>\n",
       "<polygon fill=\"#000000\" stroke=\"#000000\" points=\"369.4137,-68.4122 365.6234,-58.5186 362.4167,-68.6165 369.4137,-68.4122\"/>\n",
       "</g>\n",
       "<!-- 6 -->\n",
       "<g id=\"node7\" class=\"node\">\n",
       "<title>6</title>\n",
       "<polygon fill=\"none\" stroke=\"#000000\" points=\"586.3042,-58.6014 453.2314,-58.6014 453.2314,.2014 586.3042,.2014 586.3042,-58.6014\"/>\n",
       "<text text-anchor=\"middle\" x=\"519.7678\" y=\"-41.8\" font-family=\"Times,serif\" font-size=\"14.00\" fill=\"#000000\">gini = 0.4998</text>\n",
       "<text text-anchor=\"middle\" x=\"519.7678\" y=\"-25\" font-family=\"Times,serif\" font-size=\"14.00\" fill=\"#000000\">samples = 7040</text>\n",
       "<text text-anchor=\"middle\" x=\"519.7678\" y=\"-8.2\" font-family=\"Times,serif\" font-size=\"14.00\" fill=\"#000000\">value = [3442, 3598]</text>\n",
       "</g>\n",
       "<!-- 4&#45;&gt;6 -->\n",
       "<g id=\"edge6\" class=\"edge\">\n",
       "<title>4&#45;&gt;6</title>\n",
       "<path fill=\"none\" stroke=\"#000000\" d=\"M423.5039,-94.3048C438.0943,-84.4371 453.7597,-73.8423 468.1264,-64.1259\"/>\n",
       "<polygon fill=\"#000000\" stroke=\"#000000\" points=\"470.0946,-67.0201 476.4173,-58.5186 466.1731,-61.2217 470.0946,-67.0201\"/>\n",
       "</g>\n",
       "</g>\n",
       "</svg>\n"
      ],
      "text/plain": [
       "<graphviz.files.Source at 0x1397c54a8>"
      ]
     },
     "execution_count": 81,
     "metadata": {},
     "output_type": "execute_result"
    }
   ],
   "source": [
    "from graphviz import Source\n",
    "from sklearn import tree\n",
    "Source( tree.export_graphviz(my_decisiontree, out_file=None, feature_names=feature_names))\n"
   ]
  },
  {
   "cell_type": "code",
   "execution_count": 83,
   "metadata": {
    "collapsed": false
   },
   "outputs": [
    {
     "name": "stdout",
     "output_type": "stream",
     "text": [
      "0.9992331288343558\n"
     ]
    }
   ],
   "source": [
    "from sklearn import linear_model\n",
    "clf = linear_model.SGDClassifier()\n",
    "clf.fit(X_train, y_train)\n",
    "\n",
    "y_predict = clf.predict(X_test)\n",
    "score = accuracy_score(y_test, y_predict)\n",
    "print(score)\n"
   ]
  }
 ],
 "metadata": {
  "kernelspec": {
   "display_name": "Python 3",
   "language": "python",
   "name": "python3"
  },
  "language_info": {
   "codemirror_mode": {
    "name": "ipython",
    "version": 3
   },
   "file_extension": ".py",
   "mimetype": "text/x-python",
   "name": "python",
   "nbconvert_exporter": "python",
   "pygments_lexer": "ipython3",
   "version": "3.6.3"
  }
 },
 "nbformat": 4,
 "nbformat_minor": 2
}
